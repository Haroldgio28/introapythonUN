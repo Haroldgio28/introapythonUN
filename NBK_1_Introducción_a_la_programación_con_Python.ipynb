{
  "nbformat": 4,
  "nbformat_minor": 0,
  "metadata": {
    "colab": {
      "name": "Copy of NBK 1 - Introducción a la programación con Python.ipynb",
      "provenance": [],
      "collapsed_sections": [
        "bocn5ayVohzQ"
      ],
      "toc_visible": true,
      "include_colab_link": true
    },
    "kernelspec": {
      "name": "python3",
      "display_name": "Python 3"
    },
    "language_info": {
      "name": "python"
    }
  },
  "cells": [
    {
      "cell_type": "markdown",
      "metadata": {
        "id": "view-in-github",
        "colab_type": "text"
      },
      "source": [
        "<a href=\"https://colab.research.google.com/github/harolduribe28/introapythonUN/blob/master/NBK_1_Introducci%C3%B3n_a_la_programaci%C3%B3n_con_Python.ipynb\" target=\"_parent\"><img src=\"https://colab.research.google.com/assets/colab-badge.svg\" alt=\"Open In Colab\"/></a>"
      ]
    },
    {
      "cell_type": "markdown",
      "metadata": {
        "id": "5iHVsxGCtyma"
      },
      "source": [
        "<img src = \"https://drive.google.com/uc?export=view&id=14NZPiYXn3RV30kkJ7g2L0N2TlxtGs70R\" alt = \"Encabezado MLDS\" width = \"100%\">  </img>"
      ]
    },
    {
      "cell_type": "markdown",
      "metadata": {
        "id": "qCo5PrkGaT7t"
      },
      "source": [
        "# **Introducción a la programación con _Python_**\n",
        "---\n",
        "¡Le damos la bienvenida al módulo de **Introducción a la programación con _Python_**!\n",
        "\n",
        "En este primer material se discutirán los conceptos fundamentales del lenguaje de programación _Python_, desde el concepto de valor, tipo de dato, variable, operador y expresión, y se describirán algunas de sus aplicaciones básicas."
      ]
    },
    {
      "cell_type": "markdown",
      "metadata": {
        "id": "bocn5ayVohzQ"
      },
      "source": [
        "## **1. Lenguaje de programación _Python_**\n",
        "---\n",
        "\n",
        "<img src = \"https://www.python.org/static/community_logos/python-logo-inkscape.svg\" alt = \"Python Logo\" width = \"70%\">  </img>\n",
        "\n",
        "\n",
        "Un **lenguaje de programación** es un grupo de reglas de escritura que le permiten a una persona comunicarse con un computador e indicar una serie de pasos que este debe seguir para realizar una tarea determinada. Dentro de la amplia variedad de lenguajes de programación existentes se destaca ***Python***, un lenguaje de programación diseñado para permitir escribir código rápido, legible y compatible con múltiples plataformas. A su alrededor existe una enorme comunidad científica, que lo apoya con diversas librerías y módulos especializados que lo hacen muy popular en el área de la ciencia de datos.\n",
        "\n",
        "Para realizar esta comunicación con el computador no es suficiente con escribir texto válido con respecto a estas reglas, sino que es necesario contar con software adicional que sea capaz de **interpretar** lo que escribimos y de ejecutar los procesos que pretendemos que se ejecuten. En este curso vamos a trabajar con la plataforma **_Google Colaboratory_**, un sistema de _Google_ que permite crear documentos interactivos llamados _Notebooks_ y que cuenta con el software necesario para interpretar y ejecutar código en _Python_. En este sentido, es suficiente con crear y ejecutar una sección o **celda de código** y la infraestructura en la nube de _Google_ se encargará de ejecutarlo.\n",
        "\n",
        "> **Nota**: para más información respecto a _Google Colaboratory_, lo invitamos a que revise primero el _notebook_ de **Introducción a _Jupyter Notebooks_** disponible en los materiales del curso.\n",
        "\n",
        "\n",
        "Antes de comenzar es necesario mencionar que, como en muchas aplicaciones, _Python_ es una herramienta en constante evolución, y es muy importante tener en cuenta la **versión** en la que ejecutamos nuestro código. En esta ocasión, puede ejecutar la siguiente celda de código para conocer esta información:\n",
        "\n"
      ]
    },
    {
      "cell_type": "code",
      "metadata": {
        "id": "EG4SRAhjuMcd",
        "colab": {
          "base_uri": "https://localhost:8080/"
        },
        "outputId": "5c67e025-b003-49d1-d228-9fa622cb34d8"
      },
      "source": [
        "!python --version"
      ],
      "execution_count": null,
      "outputs": [
        {
          "output_type": "stream",
          "text": [
            "Python 3.7.10\n"
          ],
          "name": "stdout"
        }
      ]
    },
    {
      "cell_type": "markdown",
      "metadata": {
        "id": "DZ6icoesuOm8"
      },
      "source": [
        "> _Este material fue creado en la versión **`3.7.10`** de _Python__. Algunas funcionalidades pueden no estar disponibles en versiones anteriores."
      ]
    },
    {
      "cell_type": "markdown",
      "metadata": {
        "id": "DAYMp5Xmuib6"
      },
      "source": [
        "## **2. Valores y tipos de datos**\n",
        "---\n",
        "Antes de comenzar con el diseño de programas más complejos, es necesario entender sus componentes básicos. En ese sentido tenemos el **valor**, la unidad básica de información que se puede considerar en la creación de un programa. Estos valores pueden tener formas distintas, conocidas como **tipo de dato**, que le permiten al intérprete de _Python_ realizar una acción u otra según el contexto. \n",
        "En esta sección veremos dos de los valores básicos que se pueden considerar. \n",
        "\n",
        "\n"
      ]
    },
    {
      "cell_type": "markdown",
      "metadata": {
        "id": "Yj9Yj7yPBHa0"
      },
      "source": [
        "### **2.1. Cadenas de texto**\n",
        "---\n",
        "Un tipo básico, que puede usarse para representar conceptos más generales como una fecha o un nombre, es el **texto**. En _Python_, es tan sencillo como escribir texto encerrado en comillas simples **`'`** o dobles **`\"`**:\n"
      ]
    },
    {
      "cell_type": "code",
      "metadata": {
        "id": "EGXkPs4iCWYV",
        "colab": {
          "base_uri": "https://localhost:8080/",
          "height": 35
        },
        "outputId": "c2be8332-437f-4a0f-bd90-df6db688b3d7"
      },
      "source": [
        "'Hola'"
      ],
      "execution_count": null,
      "outputs": [
        {
          "output_type": "execute_result",
          "data": {
            "application/vnd.google.colaboratory.intrinsic+json": {
              "type": "string"
            },
            "text/plain": [
              "'Hola'"
            ]
          },
          "metadata": {
            "tags": []
          },
          "execution_count": 2
        }
      ]
    },
    {
      "cell_type": "markdown",
      "metadata": {
        "id": "G_G9XdeAR_hh"
      },
      "source": [
        "Como puede notar, al escribir el valor **`'Hola'`** y ejecutar la celda aparece debajo de esta nuevamente el valor **`'Hola'`**. Esta es la **salida** del programa, que contiene el resultado de la ejecución del código. En este caso la tarea es sencilla, indicar y evaluar un **valor** que resulta ser el valor de texto  **`\"Hola\"`**.\n"
      ]
    },
    {
      "cell_type": "code",
      "metadata": {
        "id": "gaLzK2lTCYdW",
        "colab": {
          "base_uri": "https://localhost:8080/",
          "height": 35
        },
        "outputId": "211ca256-2688-4b0e-e2e3-d4bf9a700b81"
      },
      "source": [
        "\"Mundo\""
      ],
      "execution_count": null,
      "outputs": [
        {
          "output_type": "execute_result",
          "data": {
            "application/vnd.google.colaboratory.intrinsic+json": {
              "type": "string"
            },
            "text/plain": [
              "'Mundo'"
            ]
          },
          "metadata": {
            "tags": []
          },
          "execution_count": 3
        }
      ]
    },
    {
      "cell_type": "markdown",
      "metadata": {
        "id": "YnVsdjsBCouR"
      },
      "source": [
        "En _Python_, y en muchos lenguajes de programación, los tipos de dato de texto se conocen como **cadenas de caracteres** o **_strings_**. En el computador, son representados como una secuencia de caracteres (símbolos como **`'1'`**, **`'h'`** o **`'#'`**) que han sido codificados previamente en una tabla. En este caso, la codificación es [UTF-8](https://es.wikipedia.org/wiki/UTF-8). Los detalles de este estándar se escapan del alcance de este curso, pero vamos a mencionar algunos de los caracteres más importantes de esta especificación. \n",
        "\n",
        "Al trabajar con cadenas de texto, es importante considerar el concepto de las **secuencias de escape**. Estas son secuencias de caracteres escritos con letras y símbolos básicos que permiten representar caracteres especiales usando el carácter **`\\`** como prefijo en secuencias como **`\\n`** y **`\\t`**, o con el uso de caracteres especiales como **`\\\\`**, **`\\'`**, **`\\\"`**. \n",
        "\n",
        "Por ejemplo, una de las secuencias de escape más importantes es la que permite representar el salto de línea, definida con la secuencia **`'\\n'`**:"
      ]
    },
    {
      "cell_type": "code",
      "metadata": {
        "id": "3_daqhD5Fehj",
        "colab": {
          "base_uri": "https://localhost:8080/",
          "height": 36
        },
        "outputId": "0a83477f-348a-4086-fa3b-82c892ac2f69"
      },
      "source": [
        "\"1. Hola\\n2. Mundo\""
      ],
      "execution_count": null,
      "outputs": [
        {
          "output_type": "execute_result",
          "data": {
            "application/vnd.google.colaboratory.intrinsic+json": {
              "type": "string"
            },
            "text/plain": [
              "'1. Hola\\n2. Mundo'"
            ]
          },
          "metadata": {
            "tags": []
          },
          "execution_count": 2
        }
      ]
    },
    {
      "cell_type": "markdown",
      "metadata": {
        "id": "sC7PgEMuFqk6"
      },
      "source": [
        "Hasta el momento hemos aprovechado una de las características del intérprete de _Python_ y de _Google Colaboratory_, que enseña en la salida del programa el **valor** del dato ubicado en la última línea. Es por esto que la representación anterior que encontramos en la salida se muestra con los paréntesis en los extremos y el texto **`'/n'`** de forma literal.\n",
        "\n",
        "Para evitar esto, y para imprimir texto en la salida tal como se vería en un archivo de texto podemos usar la función **`print(valor)`**. Esta a su vez permite realizar una operación de **salida** en cualquier línea del programa y tantas veces como sea necesario.\n",
        "\n",
        "> **Nota:** en términos sencillos, esta **función** se escribe seguida de unos paréntesis **`()`**, dentro de los cuales se indica el valor a imprimir. Existen una gran variedad de funciones, que se verán en detalle en la **Unidad 4**."
      ]
    },
    {
      "cell_type": "code",
      "metadata": {
        "id": "-GYpt2n4Po9B",
        "colab": {
          "base_uri": "https://localhost:8080/"
        },
        "outputId": "d031565c-c0d7-47a3-d179-91119408148c"
      },
      "source": [
        "print(\"1. Hola\\n2. Mundo\")"
      ],
      "execution_count": null,
      "outputs": [
        {
          "output_type": "stream",
          "text": [
            "1. Hola\n",
            "2. Mundo\n"
          ],
          "name": "stdout"
        }
      ]
    },
    {
      "cell_type": "markdown",
      "metadata": {
        "id": "MtzWwfUbPrgd"
      },
      "source": [
        "Otro carácter especial importante es el carácter de **tabulación**, que se podría lograr al usar la tecla \"**Tab**\" del teclado, escribe espacios a intervalos regulares, permitiendo alinear texto en líneas distintas. Este se escribe con el carácter **`'\\t'`**:"
      ]
    },
    {
      "cell_type": "code",
      "metadata": {
        "id": "UnhekJY6QFRS",
        "colab": {
          "base_uri": "https://localhost:8080/"
        },
        "outputId": "b7cb448a-f2e6-4fed-c8e7-da79e64c5f0e"
      },
      "source": [
        "print('Primero\\tSegundo\\tTercero')\n",
        "print('1\\t2\\t3')\n",
        "print('1ro\\t2do\\t3ro')\n",
        "print('El primero\\tEl segundo\\tEl tercero')"
      ],
      "execution_count": null,
      "outputs": [
        {
          "output_type": "stream",
          "text": [
            "Primero\tSegundo\tTercero\n",
            "1\t2\t3\n",
            "1ro\t2do\t3ro\n",
            "El primero\tEl segundo\tEl tercero\n"
          ],
          "name": "stdout"
        }
      ]
    },
    {
      "cell_type": "markdown",
      "metadata": {
        "id": "LY6oIb7NoILT"
      },
      "source": [
        "Como puede notar, no es un método infalible para alinear palabras, dado que \"llena\" el espacio entre los segmentos hasta un máximo de **8 caracteres**. La cuarta sentencia tiene cadenas con más caracteres que este límite, por lo que es alineada con el siguiente punto de parada."
      ]
    },
    {
      "cell_type": "markdown",
      "metadata": {
        "id": "XIcAf9hpQvNT"
      },
      "source": [
        "De esta forma también podemos expresar caracteres que de otra forma tendrían otra interpretación. Por ejemplo, ¿qué sucede si intentamos usar comillas dentro de una cadena de texto?"
      ]
    },
    {
      "cell_type": "code",
      "metadata": {
        "id": "8FyRCzYkQ6FU",
        "colab": {
          "base_uri": "https://localhost:8080/",
          "height": 130
        },
        "outputId": "cacbdb11-774b-4c1c-8529-dcea493d22e7"
      },
      "source": [
        "'Esta es una comilla simple: (')'"
      ],
      "execution_count": null,
      "outputs": [
        {
          "output_type": "error",
          "ename": "SyntaxError",
          "evalue": "ignored",
          "traceback": [
            "\u001b[0;36m  File \u001b[0;32m\"<ipython-input-1-e39af84334d3>\"\u001b[0;36m, line \u001b[0;32m1\u001b[0m\n\u001b[0;31m    'Esta es una comilla simple: (')'\u001b[0m\n\u001b[0m                                   ^\u001b[0m\n\u001b[0;31mSyntaxError\u001b[0m\u001b[0;31m:\u001b[0m invalid syntax\n"
          ]
        }
      ]
    },
    {
      "cell_type": "markdown",
      "metadata": {
        "id": "8lQDhdN8FiCR"
      },
      "source": [
        "En esta ocasión la ejecución produce un **error de sintaxis** (del inglés _Syntax Error_). Esto significa que alguna de las palabras o elementos de texto de nuestro código no cumple las reglas especificadas por el lenguaje. En este caso la regla que se incumplió es que cada comilla (simple o doble) que se encuentre en el código debe tener en algún punto de la línea un símbolo igual que indique donde termina la cadena. Es decir, las comillas que se encuentran dentro de nuestro texto son interpretadas como esta cadena:\n",
        "\n",
        "```python\n",
        "'Estas es una comilla simple: ('\n",
        "```\n",
        "\n",
        "Dejando al final de la línea código que no corresponde a ninguna regla. A menos que las comillas sean del tipo contrario al usado como inicio y final de la cadena (como se ve en el siguiente ejemplo), es necesario utilizar el prefijo  **`\\`** para indicar que el carácter usado es especial."
      ]
    },
    {
      "cell_type": "code",
      "metadata": {
        "id": "Hwa0765LRUCA",
        "colab": {
          "base_uri": "https://localhost:8080/"
        },
        "outputId": "08a9c321-ed26-4477-c74d-9670b58e6c37"
      },
      "source": [
        "print(\"Estas comillas son simples (')\")\n",
        "print('Estas comillas son dobles (\")')\n",
        "print(\"Estas son comillas simples (\\') y estas son dobles (\\\")\")"
      ],
      "execution_count": null,
      "outputs": [
        {
          "output_type": "stream",
          "text": [
            "Estas comillas son simples (')\n",
            "Estas comillas son dobles (\")\n",
            "Estas son comillas simples (') y estas son dobles (\")\n"
          ],
          "name": "stdout"
        }
      ]
    },
    {
      "cell_type": "markdown",
      "metadata": {
        "id": "6B2zf1ZnsrNa"
      },
      "source": [
        "Para textos más largos y complejos, es posible definir cadenas de texto de múltiples líneas. Para esto debemos usar tres comillas de cualquier tipo (**`'''`** o **`\"\"\"`**) como inicio y final. De esta manera se codifican saltos de línea como separadores de la cadena de forma directa, y se conservan los espacios al final y al principio de cada línea."
      ]
    },
    {
      "cell_type": "code",
      "metadata": {
        "id": "AcVTmiEus0s7",
        "colab": {
          "base_uri": "https://localhost:8080/",
          "height": 36
        },
        "outputId": "050887f0-6d41-4f3e-b2b3-8fd58242c4d6"
      },
      "source": [
        "\"\"\"\n",
        "1. Hola\n",
        "2. Mundo         \n",
        "  * Hola  mundo\n",
        "\"\"\""
      ],
      "execution_count": null,
      "outputs": [
        {
          "output_type": "execute_result",
          "data": {
            "application/vnd.google.colaboratory.intrinsic+json": {
              "type": "string"
            },
            "text/plain": [
              "'\\n1. Hola\\n2. Mundo         \\n  * Hola  mundo\\n'"
            ]
          },
          "metadata": {
            "tags": []
          },
          "execution_count": 4
        }
      ]
    },
    {
      "cell_type": "markdown",
      "metadata": {
        "id": "Y9xinGtRtaRl"
      },
      "source": [
        "Podemos tomar este valor en múltiples líneas y utilizarlo dentro de la función **`print`**, dejando el paréntesis final para la última línea:"
      ]
    },
    {
      "cell_type": "code",
      "metadata": {
        "id": "bLeYFGjhtZZV",
        "colab": {
          "base_uri": "https://localhost:8080/"
        },
        "outputId": "a1a8df8b-9096-4ff1-fff5-1e39f7e87793"
      },
      "source": [
        "print(\"\"\"\n",
        "1. Hola\n",
        "2. Mundo         \n",
        "  * Hola mundo\n",
        "\"\"\")"
      ],
      "execution_count": null,
      "outputs": [
        {
          "output_type": "stream",
          "text": [
            "\n",
            "1. Hola\n",
            "2. Mundo         \n",
            "  * Hola mundo\n",
            "\n"
          ],
          "name": "stdout"
        }
      ]
    },
    {
      "cell_type": "markdown",
      "metadata": {
        "id": "O75k_11V5RfL"
      },
      "source": [
        "### **2.2. Números**\n",
        "---\n",
        "Además del texto, una de las aplicaciones y pilares fundamentales de la programación es el manejo de valores numéricos de distintos tipos. En _Python_ los números se expresan como se expresarían en una calculadora o en una hoja de cálculo de herramientas como _Excel_:\n"
      ]
    },
    {
      "cell_type": "code",
      "metadata": {
        "id": "e5gmEPp9zi7d",
        "colab": {
          "base_uri": "https://localhost:8080/"
        },
        "outputId": "4af7bf47-026b-4386-c272-d482c79df502"
      },
      "source": [
        "500"
      ],
      "execution_count": null,
      "outputs": [
        {
          "output_type": "execute_result",
          "data": {
            "text/plain": [
              "500"
            ]
          },
          "metadata": {
            "tags": []
          },
          "execution_count": 6
        }
      ]
    },
    {
      "cell_type": "markdown",
      "metadata": {
        "id": "AEciKqSTzkFs"
      },
      "source": [
        "\n",
        "Esta celda no realiza nada del otro mundo, pero nos permite conocer un primer detalle importante. El texto que escribamos tiene que ser válido para el intérprete o de lo contrario la ejecución no llegará a su fin. Ejecute la siguiente celda:"
      ]
    },
    {
      "cell_type": "code",
      "metadata": {
        "id": "iQzNfEEa0aeC",
        "colab": {
          "base_uri": "https://localhost:8080/",
          "height": 135
        },
        "outputId": "1bf4ac4f-554b-475a-fc05-ad5a3ec78760"
      },
      "source": [
        "500$"
      ],
      "execution_count": null,
      "outputs": [
        {
          "output_type": "error",
          "ename": "SyntaxError",
          "evalue": "ignored",
          "traceback": [
            "\u001b[0;36m  File \u001b[0;32m\"<ipython-input-7-ce8e46003fb0>\"\u001b[0;36m, line \u001b[0;32m1\u001b[0m\n\u001b[0;31m    500$\u001b[0m\n\u001b[0m       ^\u001b[0m\n\u001b[0;31mSyntaxError\u001b[0m\u001b[0;31m:\u001b[0m invalid syntax\n"
          ]
        }
      ]
    },
    {
      "cell_type": "markdown",
      "metadata": {
        "id": "gkaGEQvW0cqA"
      },
      "source": [
        "Nuevamente, encontramos que este código no es válido de acuerdo a las reglas del lenguaje. El programador pudo haber querido evaluar un valor monetario, pero _Python_ no distingue el concepto de moneda con el carácter **`$`** y simplemente lo identifica como un error.\n",
        "\n",
        "> **Entonces, ¿cuáles son las reglas para escribir valores numéricos en _Python_?**\n",
        "\n",
        "_Python_ es capaz de interpretar estos valores (llamados **literales**) directamente realizando la distinción entre tres tipos de números:\n"
      ]
    },
    {
      "cell_type": "markdown",
      "metadata": {
        "id": "J2SP6cVL53-W"
      },
      "source": [
        "#### **2.2.1. Números enteros**\n",
        "---\n",
        "Al igual que el ejemplo anterior, los [números enteros](https://es.wikipedia.org/wiki/Número_entero) sencillos se escriben con los dígitos del $0$ al $9$ y sin espacios entre ellos."
      ]
    },
    {
      "cell_type": "code",
      "metadata": {
        "id": "IW4_KKob3PMA",
        "colab": {
          "base_uri": "https://localhost:8080/"
        },
        "outputId": "b226d844-e365-49a0-9c0f-5ee02ca4e55f"
      },
      "source": [
        "1234567890"
      ],
      "execution_count": null,
      "outputs": [
        {
          "output_type": "execute_result",
          "data": {
            "text/plain": [
              "1234567890"
            ]
          },
          "metadata": {
            "tags": []
          },
          "execution_count": 8
        }
      ]
    },
    {
      "cell_type": "markdown",
      "metadata": {
        "id": "CiXCI5OZVjYT"
      },
      "source": [
        "Como una excepción en esta regla se define que no es válido utilizar ceros a la izquierda de un valor numérico:"
      ]
    },
    {
      "cell_type": "code",
      "metadata": {
        "id": "-WqQWo9kVnMJ",
        "colab": {
          "base_uri": "https://localhost:8080/",
          "height": 135
        },
        "outputId": "44ec05ae-e513-489f-adfd-032ccb5e4b37"
      },
      "source": [
        "0001"
      ],
      "execution_count": null,
      "outputs": [
        {
          "output_type": "error",
          "ename": "SyntaxError",
          "evalue": "ignored",
          "traceback": [
            "\u001b[0;36m  File \u001b[0;32m\"<ipython-input-9-d31c5f03e990>\"\u001b[0;36m, line \u001b[0;32m1\u001b[0m\n\u001b[0;31m    0001\u001b[0m\n\u001b[0m       ^\u001b[0m\n\u001b[0;31mSyntaxError\u001b[0m\u001b[0;31m:\u001b[0m invalid token\n"
          ]
        }
      ]
    },
    {
      "cell_type": "markdown",
      "metadata": {
        "id": "fOAKHgZG8-T6"
      },
      "source": [
        "Los valores negativos se pueden expresar con el signo de resta **`-`** antes de un valor numérico válido (aplica también para otros tipos de número). Sin embargo, y como veremos más adelante, este no es un tipo de valor numérico literal."
      ]
    },
    {
      "cell_type": "code",
      "metadata": {
        "id": "tEZ_2ycz9PfB",
        "colab": {
          "base_uri": "https://localhost:8080/"
        },
        "outputId": "f4081cce-2aee-4888-ea89-f5b24b59ffef"
      },
      "source": [
        "-5000"
      ],
      "execution_count": null,
      "outputs": [
        {
          "output_type": "execute_result",
          "data": {
            "text/plain": [
              "-5000"
            ]
          },
          "metadata": {
            "tags": []
          },
          "execution_count": 10
        }
      ]
    },
    {
      "cell_type": "markdown",
      "metadata": {
        "id": "b4TsAyEe37pm"
      },
      "source": [
        "Estos números enteros son interpretados con la base decimal. _Python_ también permite utilizar otras bases como la [binaria](https://es.wikipedia.org/wiki/Sistema_binario) (base $2$), [octal](https://es.wikipedia.org/wiki/Sistema_octal) (base $8$) y [hexadecimal](https://es.wikipedia.org/wiki/Sistema_hexadecimal) (base $16$). En esta sección describiremos con ejemplos la idea detrás de estas representaciones de valores numéricos, sin entrar en detalles matemáticos concretos. Estas se definen de la siguiente manera:\n",
        "\n",
        "* **Números enteros binarios**: para escribir este tipo de enteros se utiliza el prefijo **`0b`** o **`0B`** y se indican a continuación una combinación de los dígitos **`0`** y **`1`**.  Al evaluar su valor, _Python_ retorna su interpretación en el sistema decimal. A continuación, un ejemplo de una conversión entre estas bases:\n",
        "\n",
        "  $$\\texttt{0b1110} \\rightarrow 1(2^3) + 1(2^2) + 1(2^1) + 0(2^0) = 8 + 4 + 2 = 14$$"
      ]
    },
    {
      "cell_type": "code",
      "metadata": {
        "id": "GVebP_NM6rTg",
        "colab": {
          "base_uri": "https://localhost:8080/"
        },
        "outputId": "2175dd8b-bb0e-4c01-c631-5da4a83a61ea"
      },
      "source": [
        "0b1110"
      ],
      "execution_count": null,
      "outputs": [
        {
          "output_type": "execute_result",
          "data": {
            "text/plain": [
              "14"
            ]
          },
          "metadata": {
            "tags": []
          },
          "execution_count": 11
        }
      ]
    },
    {
      "cell_type": "markdown",
      "metadata": {
        "id": "o_M2cghb7MFE"
      },
      "source": [
        "* **Números enteros octales**: para escribir este tipo de enteros se utiliza el prefijo **`0o`** o **`0O`** y se indican a continuación una combinación de los dígitos entre **`0`** y **`7`**. Al evaluar su valor, _Python_ retorna su interpretación en el sistema decimal. A continuación, un ejemplo de una conversión entre estas bases:\n",
        "\n",
        "  $$\\texttt{0o106} \\rightarrow  1(8^2) + 0(8^1) + 6(8^0) = 64 + 6 = 70$$"
      ]
    },
    {
      "cell_type": "code",
      "metadata": {
        "id": "YLqarVpy7WBl",
        "colab": {
          "base_uri": "https://localhost:8080/"
        },
        "outputId": "141294bc-5761-49c0-d333-4e93e437ed71"
      },
      "source": [
        "0o106"
      ],
      "execution_count": null,
      "outputs": [
        {
          "output_type": "execute_result",
          "data": {
            "text/plain": [
              "70"
            ]
          },
          "metadata": {
            "tags": []
          },
          "execution_count": 12
        }
      ]
    },
    {
      "cell_type": "markdown",
      "metadata": {
        "id": "yxhsZ5A19eLe"
      },
      "source": [
        "* **Números enteros hexadecimales**: para escribir este tipo de enteros se utiliza el prefijo **`0x`** o **`0X`** y se indican a continuación una combinación de los digitos entre **`0`** y **`9`**, además de alguna de las letras de la **`A`** a la **`F`** en minúscula o mayúscula (de esta manera cada digito tiene $16$ valores distintos). Estas letras representan los siguientes números en base decimal:\n",
        "\n",
        "| **Letra** | **Valor** |\n",
        "|----|----|\n",
        "| A         |        10 |\n",
        "| B | 11 |\n",
        "| C | 12 |\n",
        "| D | 13 |\n",
        "| E | 14 |\n",
        "| F | 15 |\n",
        "\n",
        "  Al evaluar su valor, _Python_ retorna su interpretación en el sistema decimal. A continuación, un ejemplo de una conversión entre estas bases:\n",
        "\n",
        "  $$\\texttt{0xAC} \\rightarrow  10(16^1) + 12(16^0) = 160 + 12 = 172$$\n",
        "  "
      ]
    },
    {
      "cell_type": "code",
      "metadata": {
        "id": "zZAHSTCC-Uqm"
      },
      "source": [
        "0xAC"
      ],
      "execution_count": null,
      "outputs": []
    },
    {
      "cell_type": "markdown",
      "metadata": {
        "id": "0UeWy2wb-ZBn"
      },
      "source": [
        "_Python_ se caracteriza por su **expresividad**, y vela por proveer herramientas para facilitar la legibilidad del código. Una de estas características (conocidas usualmente como _syntax sugar_ o azúcar sintáctico) es la posibilidad de usar el símbolo barra al piso (**`_`**) como separador en valores literales numéricos para permitir la legibilidad.\n",
        "\n",
        "> **Nota**: otra de las formas inválidas de definir valores numéricos es utilizar puntos (**`.`**) o comas (**`,`**) como separadores. Como verá en el transcurso del curso, estos símbolos son muy importantes en otras funcionalidades."
      ]
    },
    {
      "cell_type": "code",
      "metadata": {
        "id": "iQSYBoRe_rXv",
        "colab": {
          "base_uri": "https://localhost:8080/"
        },
        "outputId": "0b3ab902-5670-44ab-fbbd-87d56ffcfdd2"
      },
      "source": [
        "1_000_000"
      ],
      "execution_count": null,
      "outputs": [
        {
          "output_type": "execute_result",
          "data": {
            "text/plain": [
              "1000000"
            ]
          },
          "metadata": {
            "tags": []
          },
          "execution_count": 13
        }
      ]
    },
    {
      "cell_type": "markdown",
      "metadata": {
        "id": "9H2_Q8gkAmMj"
      },
      "source": [
        "Por debajo, _Python_ es capaz de identificar que una cadena escrita con estas reglas corresponde a un número entero. \n",
        "> **¿Cómo sabe un programador que un valor es efectivamente un número entero?**\n",
        "\n",
        "Por ejemplo, ¿cómo diferenciamos estos dos valores?\n"
      ]
    },
    {
      "cell_type": "code",
      "metadata": {
        "id": "HbZFk3MDTHh7"
      },
      "source": [
        "print(5)\n",
        "print('5')"
      ],
      "execution_count": null,
      "outputs": []
    },
    {
      "cell_type": "markdown",
      "metadata": {
        "id": "_lPBiclqTJ_h"
      },
      "source": [
        "Ambos tienen la misma representación de cadena de texto y son a simple vista indistinguibles. Para esto, _Python_ identifica y guarda de manera implícita el tipo de dato de un valor. Podemos consultar este tipo de dato con ayuda de la función **`type(valor)`**:"
      ]
    },
    {
      "cell_type": "code",
      "metadata": {
        "id": "Cuefvaw1TkX6",
        "colab": {
          "base_uri": "https://localhost:8080/"
        },
        "outputId": "fc2c60e2-9eb9-4b0f-a41a-b35418dc41ab"
      },
      "source": [
        "type(5)"
      ],
      "execution_count": null,
      "outputs": [
        {
          "output_type": "execute_result",
          "data": {
            "text/plain": [
              "int"
            ]
          },
          "metadata": {
            "tags": []
          },
          "execution_count": 14
        }
      ]
    },
    {
      "cell_type": "code",
      "metadata": {
        "id": "UA09wMNWTmOI",
        "colab": {
          "base_uri": "https://localhost:8080/"
        },
        "outputId": "143907c2-bb71-4e5b-cf90-b6fab01d6619"
      },
      "source": [
        "type('5')"
      ],
      "execution_count": null,
      "outputs": [
        {
          "output_type": "execute_result",
          "data": {
            "text/plain": [
              "str"
            ]
          },
          "metadata": {
            "tags": []
          },
          "execution_count": 15
        }
      ]
    },
    {
      "cell_type": "markdown",
      "metadata": {
        "id": "DgMxCwGOTotQ"
      },
      "source": [
        "En este caso, tenemos los tipos de dato **`int`** para números enteros y  **`str`** para cadenas de texto."
      ]
    },
    {
      "cell_type": "markdown",
      "metadata": {
        "id": "YQsfMMd-TzFH"
      },
      "source": [
        "#### **2.2.2. Números decimales**\n",
        "___\n",
        "\n",
        "Los números decimales se escriben de manera similar a los números enteros de base decimal, usando el carácter de punto **`.`** para separar la parte entera de la parte decimal. "
      ]
    },
    {
      "cell_type": "code",
      "metadata": {
        "id": "Z3jDbOOCUVfX",
        "colab": {
          "base_uri": "https://localhost:8080/"
        },
        "outputId": "2adbdb18-09ee-4ee1-c068-2a2435804863"
      },
      "source": [
        "400.125"
      ],
      "execution_count": null,
      "outputs": [
        {
          "output_type": "execute_result",
          "data": {
            "text/plain": [
              "400.125"
            ]
          },
          "metadata": {
            "tags": []
          },
          "execution_count": 16
        }
      ]
    },
    {
      "cell_type": "markdown",
      "metadata": {
        "id": "wTxkEPEzUkb6"
      },
      "source": [
        "Tanto la parte entera como la parte decimal pueden ser omitidas en los casos en que estas tengan $0$ como valor:"
      ]
    },
    {
      "cell_type": "code",
      "metadata": {
        "id": "A_sL5N6EUrEb",
        "colab": {
          "base_uri": "https://localhost:8080/"
        },
        "outputId": "d12f7667-1ae1-40b2-8681-2381e232ce99"
      },
      "source": [
        ".15"
      ],
      "execution_count": null,
      "outputs": [
        {
          "output_type": "execute_result",
          "data": {
            "text/plain": [
              "0.15"
            ]
          },
          "metadata": {
            "tags": []
          },
          "execution_count": 17
        }
      ]
    },
    {
      "cell_type": "code",
      "metadata": {
        "id": "UrSHFXlDUuBw",
        "colab": {
          "base_uri": "https://localhost:8080/"
        },
        "outputId": "a097e072-83e5-430f-a21a-c7cf5336aec6"
      },
      "source": [
        "20."
      ],
      "execution_count": null,
      "outputs": [
        {
          "output_type": "execute_result",
          "data": {
            "text/plain": [
              "20.0"
            ]
          },
          "metadata": {
            "tags": []
          },
          "execution_count": 18
        }
      ]
    },
    {
      "cell_type": "markdown",
      "metadata": {
        "id": "1ObER7VHUwOA"
      },
      "source": [
        "De esta manera podemos definir valores que también entran en la categoría de números enteros con valores de tipo decimal de manera explícita:"
      ]
    },
    {
      "cell_type": "code",
      "metadata": {
        "id": "lZ0SG3KDU6lN",
        "colab": {
          "base_uri": "https://localhost:8080/"
        },
        "outputId": "3126a60d-46d9-44c1-9e88-2bc176f3379a"
      },
      "source": [
        "type(20)"
      ],
      "execution_count": null,
      "outputs": [
        {
          "output_type": "execute_result",
          "data": {
            "text/plain": [
              "int"
            ]
          },
          "metadata": {
            "tags": []
          },
          "execution_count": 19
        }
      ]
    },
    {
      "cell_type": "code",
      "metadata": {
        "id": "eJbgOjM6U8H9",
        "colab": {
          "base_uri": "https://localhost:8080/"
        },
        "outputId": "c6338381-43c6-4dbf-966b-2f739a5b2551"
      },
      "source": [
        "type(20.)"
      ],
      "execution_count": null,
      "outputs": [
        {
          "output_type": "execute_result",
          "data": {
            "text/plain": [
              "float"
            ]
          },
          "metadata": {
            "tags": []
          },
          "execution_count": 20
        }
      ]
    },
    {
      "cell_type": "markdown",
      "metadata": {
        "id": "AxREDEuwU-1l"
      },
      "source": [
        "El tipo de dato asociado a este tipo de número es **`float`**, que proviene del concepto de **punto flotante**, con el cual se codifica de manera eficiente este tipo de valores. \n",
        "\n",
        "Al igual que en la mayoría de calculadoras científicas, _Python_ permite el uso de [notación científica](https://es.wikipedia.org/wiki/Notación_científica) con el carácter **`e`**. De esta forma, se obtiene una equivalencia de notaciones como la del siguiente ejemplo:\n",
        "\n",
        "$$\\texttt{-23e5} \\rightarrow -23 \\times 10^{5} $$"
      ]
    },
    {
      "cell_type": "code",
      "metadata": {
        "id": "M1HH0-j9qYOe",
        "colab": {
          "base_uri": "https://localhost:8080/"
        },
        "outputId": "88adde3a-0733-4595-bdd2-2a11bd09573d"
      },
      "source": [
        "-23e5"
      ],
      "execution_count": null,
      "outputs": [
        {
          "output_type": "execute_result",
          "data": {
            "text/plain": [
              "-2300000.0"
            ]
          },
          "metadata": {
            "tags": []
          },
          "execution_count": 21
        }
      ]
    },
    {
      "cell_type": "markdown",
      "metadata": {
        "id": "itHbrDY4odEZ"
      },
      "source": [
        "Finalmente, podemos utilizar el separador de barra al piso **`_`** para separar los números decimales tanto en su parte real como en su parte entera:"
      ]
    },
    {
      "cell_type": "code",
      "metadata": {
        "id": "wm0-b0RgqtdQ",
        "colab": {
          "base_uri": "https://localhost:8080/"
        },
        "outputId": "7976dce3-506c-44e2-f7af-ded60c3109d6"
      },
      "source": [
        "1_500.42_42"
      ],
      "execution_count": null,
      "outputs": [
        {
          "output_type": "execute_result",
          "data": {
            "text/plain": [
              "1500.4242"
            ]
          },
          "metadata": {
            "tags": []
          },
          "execution_count": 22
        }
      ]
    },
    {
      "cell_type": "markdown",
      "metadata": {
        "id": "sUCJ3K68q8tO"
      },
      "source": [
        "#### **2.2.3. Números imaginarios**\n",
        "___\n",
        "\n",
        "_Python_ permite utilizar [**números complejos**](https://es.wikipedia.org/wiki/Número_complejo), un tipo de número muy importante en áreas como la física, que están compuestos por una **parte real** y una **parte imaginaria**. \n",
        "\n",
        "Para declarar este tipo de números se puede utilizar el carácter **`j`** para definir la parte imaginaria de un número complejo. Como veremos más adelante, se puede definir su parte real con operaciones como la suma y la resta con números decimales o enteros."
      ]
    },
    {
      "cell_type": "code",
      "metadata": {
        "id": "G8i5wnVHrQdK",
        "colab": {
          "base_uri": "https://localhost:8080/"
        },
        "outputId": "8c0fab00-50fa-499c-c364-34669088cc02"
      },
      "source": [
        "5j"
      ],
      "execution_count": null,
      "outputs": [
        {
          "output_type": "execute_result",
          "data": {
            "text/plain": [
              "5j"
            ]
          },
          "metadata": {
            "tags": []
          },
          "execution_count": 23
        }
      ]
    },
    {
      "cell_type": "markdown",
      "metadata": {
        "id": "ox5azEYmrujE"
      },
      "source": [
        "Las demás reglas de notación para números flotantes aplican con cada componente del número complejo."
      ]
    },
    {
      "cell_type": "code",
      "metadata": {
        "id": "iQsJkX2lr0g7",
        "colab": {
          "base_uri": "https://localhost:8080/"
        },
        "outputId": "34f68fbd-38d9-48be-f57f-ed0787fcc5ce"
      },
      "source": [
        "3_000_2.5e52j"
      ],
      "execution_count": null,
      "outputs": [
        {
          "output_type": "execute_result",
          "data": {
            "text/plain": [
              "3.00025e+56j"
            ]
          },
          "metadata": {
            "tags": []
          },
          "execution_count": 24
        }
      ]
    },
    {
      "cell_type": "markdown",
      "metadata": {
        "id": "xQ0rKIKTrXcg"
      },
      "source": [
        "Al evaluar su tipo, se considera este tipo de expresiones con tipo **`complex`**:"
      ]
    },
    {
      "cell_type": "code",
      "metadata": {
        "id": "EIKsoUV0raZ9",
        "colab": {
          "base_uri": "https://localhost:8080/"
        },
        "outputId": "da1e6637-3bbe-4c26-c25b-9134e711586e"
      },
      "source": [
        "type(5j)"
      ],
      "execution_count": null,
      "outputs": [
        {
          "output_type": "execute_result",
          "data": {
            "text/plain": [
              "complex"
            ]
          },
          "metadata": {
            "tags": []
          },
          "execution_count": 25
        }
      ]
    },
    {
      "cell_type": "markdown",
      "metadata": {
        "id": "nh_VAMv5rigL"
      },
      "source": [
        "Como veremos más adelante con las operaciones matemáticas, _Python_ permite la operación de números complejos con sus detalles matemáticos correspondientes."
      ]
    },
    {
      "cell_type": "markdown",
      "metadata": {
        "id": "eo-aecEqt5l4"
      },
      "source": [
        "#### **2.2.4. Conversión de tipos**\n",
        "---\n",
        " Es común necesitar el uso de conversiones entre estos tipos de dato básicos. Para esto, _Python_ proporciona algunas funciones simples que nos permitirán realizar este proceso. Las funciones **`str(valor)`**, **`int(valor)`**, **`float(valor)`** y **`complex(valor)`** convertirán (o intentarán convertir) los argumentos en los tipos **`str`**, **`int`**, **`float`** y **`complex`**, respectivamente. Llamamos a estas funciones _de conversión de tipo_.\n",
        "\n",
        "Veamos la función **`str`**:"
      ]
    },
    {
      "cell_type": "code",
      "metadata": {
        "id": "Wl995VVive8z",
        "colab": {
          "base_uri": "https://localhost:8080/",
          "height": 36
        },
        "outputId": "2510866e-5209-4ecd-8440-defa87700426"
      },
      "source": [
        "str(0xAAAA)"
      ],
      "execution_count": null,
      "outputs": [
        {
          "output_type": "execute_result",
          "data": {
            "application/vnd.google.colaboratory.intrinsic+json": {
              "type": "string"
            },
            "text/plain": [
              "'43690'"
            ]
          },
          "metadata": {
            "tags": []
          },
          "execution_count": 26
        }
      ]
    },
    {
      "cell_type": "code",
      "metadata": {
        "id": "-lY2lafavSHM",
        "colab": {
          "base_uri": "https://localhost:8080/",
          "height": 36
        },
        "outputId": "3a0c81a4-4995-4b18-9d69-3e24f4159083"
      },
      "source": [
        "str(500_000.54e-5)"
      ],
      "execution_count": null,
      "outputs": [
        {
          "output_type": "execute_result",
          "data": {
            "application/vnd.google.colaboratory.intrinsic+json": {
              "type": "string"
            },
            "text/plain": [
              "'5.0000054'"
            ]
          },
          "metadata": {
            "tags": []
          },
          "execution_count": 27
        }
      ]
    },
    {
      "cell_type": "code",
      "metadata": {
        "id": "HusuNxKcvbtN",
        "colab": {
          "base_uri": "https://localhost:8080/",
          "height": 36
        },
        "outputId": "cb3c3031-5579-4ca7-fbcc-fd1b89d16841"
      },
      "source": [
        "str(50j)"
      ],
      "execution_count": null,
      "outputs": [
        {
          "output_type": "execute_result",
          "data": {
            "application/vnd.google.colaboratory.intrinsic+json": {
              "type": "string"
            },
            "text/plain": [
              "'50j'"
            ]
          },
          "metadata": {
            "tags": []
          },
          "execution_count": 28
        }
      ]
    },
    {
      "cell_type": "markdown",
      "metadata": {
        "id": "zufmjOScvLLY"
      },
      "source": [
        "La función **`int`** puede tomar una cadena y convertirlo en un **`int`** con base $10$. "
      ]
    },
    {
      "cell_type": "code",
      "metadata": {
        "id": "gllp1jW1um13",
        "colab": {
          "base_uri": "https://localhost:8080/"
        },
        "outputId": "cf04a520-6a35-43e4-b53f-dd1a6d6d1903"
      },
      "source": [
        "int('5_000')"
      ],
      "execution_count": null,
      "outputs": [
        {
          "output_type": "execute_result",
          "data": {
            "text/plain": [
              "5000"
            ]
          },
          "metadata": {
            "tags": []
          },
          "execution_count": 29
        }
      ]
    },
    {
      "cell_type": "markdown",
      "metadata": {
        "id": "yD9k7Pa7wISY"
      },
      "source": [
        "Para enteros en otra base, se escribe una coma **`,`** seguida del número de la base."
      ]
    },
    {
      "cell_type": "code",
      "metadata": {
        "id": "wckxXlG7wPeC",
        "colab": {
          "base_uri": "https://localhost:8080/"
        },
        "outputId": "e0d00fa0-0e57-46c9-83c6-f122b9e2069a"
      },
      "source": [
        "print(int('0b100', 2))\n",
        "print(int('0x100', 16))"
      ],
      "execution_count": null,
      "outputs": [
        {
          "output_type": "stream",
          "text": [
            "4\n",
            "256\n"
          ],
          "name": "stdout"
        }
      ]
    },
    {
      "cell_type": "markdown",
      "metadata": {
        "id": "q5w5I_T3vo-w"
      },
      "source": [
        " Para los números de punto flotante se descarta la parte decimal del número, un proceso que llamamos truncamiento hacia cero."
      ]
    },
    {
      "cell_type": "code",
      "metadata": {
        "id": "sjJNzYQrum14",
        "colab": {
          "base_uri": "https://localhost:8080/"
        },
        "outputId": "5705df8d-3241-4c15-9acf-1e4957304a8b"
      },
      "source": [
        "int(2.3)"
      ],
      "execution_count": null,
      "outputs": [
        {
          "output_type": "execute_result",
          "data": {
            "text/plain": [
              "2"
            ]
          },
          "metadata": {
            "tags": []
          },
          "execution_count": 1
        }
      ]
    },
    {
      "cell_type": "markdown",
      "metadata": {
        "id": "VOlcZL_yw348"
      },
      "source": [
        "La función **`float`** permite tomar cadenas de texto con las reglas descritas para este tipo de dato y realiza una conversión de tipo a los valores enteros con $0$ en su parte decimal."
      ]
    },
    {
      "cell_type": "code",
      "metadata": {
        "id": "pMsWRfOIum14",
        "colab": {
          "base_uri": "https://localhost:8080/"
        },
        "outputId": "7835d057-e624-4ec3-86b2-844b21432cd5"
      },
      "source": [
        "print(float(\"123450\"))"
      ],
      "execution_count": null,
      "outputs": [
        {
          "output_type": "stream",
          "text": [
            "123450.0\n"
          ],
          "name": "stdout"
        }
      ]
    },
    {
      "cell_type": "code",
      "metadata": {
        "id": "oUEjkx2byNoQ",
        "colab": {
          "base_uri": "https://localhost:8080/"
        },
        "outputId": "251edfc2-d9c8-4397-9369-25dcd5a081c7"
      },
      "source": [
        "print(float(0b1000))"
      ],
      "execution_count": null,
      "outputs": [
        {
          "output_type": "stream",
          "text": [
            "8.0\n"
          ],
          "name": "stdout"
        }
      ]
    },
    {
      "cell_type": "markdown",
      "metadata": {
        "id": "FrWafolYyA8P"
      },
      "source": [
        "En el caso de los números complejos la operación de conversión a entero o flotante no está definida. Sin embargo, sí es posible tomar estos tipos como entrada, que pasan a conformar la parte real del número complejo creado."
      ]
    },
    {
      "cell_type": "code",
      "metadata": {
        "id": "dqUoeacFvLea",
        "colab": {
          "base_uri": "https://localhost:8080/"
        },
        "outputId": "c5090138-51b7-4611-b43e-1e605c74423b"
      },
      "source": [
        "complex(50)"
      ],
      "execution_count": null,
      "outputs": [
        {
          "output_type": "execute_result",
          "data": {
            "text/plain": [
              "(50+0j)"
            ]
          },
          "metadata": {
            "tags": []
          },
          "execution_count": 34
        }
      ]
    },
    {
      "cell_type": "code",
      "metadata": {
        "id": "SvMHljxKybdv",
        "colab": {
          "base_uri": "https://localhost:8080/"
        },
        "outputId": "40c89ebc-4204-4423-aa4a-3a53ebbc142f"
      },
      "source": [
        "complex(.500)"
      ],
      "execution_count": null,
      "outputs": [
        {
          "output_type": "execute_result",
          "data": {
            "text/plain": [
              "(0.5+0j)"
            ]
          },
          "metadata": {
            "tags": []
          },
          "execution_count": 35
        }
      ]
    },
    {
      "cell_type": "markdown",
      "metadata": {
        "id": "Eb-zeHdJylSp"
      },
      "source": [
        "## **3. Variables y memoria**\n",
        "---\n",
        "Al igual que existe el concepto de **salida** de un programa, que implica un mensaje que proviene del computador, podemos realizar el proceso contrario y definir una **entrada** al programa. Esta se puede hacer a partir de archivos o de manera directa con funciones especiales. \n",
        "\n",
        "Por ejemplo, para obtener una cadena de texto cualquiera del usuario podemos utilizar la función **`input(mensaje)`**, con un mensaje opcional que imprimir antes de solicitar la entrada. Al ejecutar la siguiente celda, aparecerá en la salida un recuadro en el que puede ingresar texto. \n",
        "\n",
        "Ejecute la siguiente celda e ingrese una cadena con su nombre:"
      ]
    },
    {
      "cell_type": "code",
      "metadata": {
        "id": "yPRpcMsI0zbb",
        "colab": {
          "base_uri": "https://localhost:8080/",
          "height": 52
        },
        "outputId": "99a9c226-3897-4daa-e964-21d51be0f51a"
      },
      "source": [
        "input('Ingrese su nombre: ')"
      ],
      "execution_count": null,
      "outputs": [
        {
          "output_type": "stream",
          "text": [
            "Ingrese su nombre: Pepe\n"
          ],
          "name": "stdout"
        },
        {
          "output_type": "execute_result",
          "data": {
            "application/vnd.google.colaboratory.intrinsic+json": {
              "type": "string"
            },
            "text/plain": [
              "'Pepe'"
            ]
          },
          "metadata": {
            "tags": []
          },
          "execution_count": 1
        }
      ]
    },
    {
      "cell_type": "markdown",
      "metadata": {
        "id": "ev3sO4Ac0UUr"
      },
      "source": [
        "Esta función tiene un **valor de retorno**, lo que significa que se convierte en el valor de texto ingresado por el usuario.\n",
        "\n",
        "> **Nota:** el concepto de valor de retorno de una función se verá más adelante.\n",
        "\n",
        "Uno de los conceptos más importantes y poderosos en los lenguajes de programación es el concepto de **variable**. La idea es **recordar** un valor asociándole un nombre. Este nombre corresponde a una variable, que como su nombre lo indica, puede **variar** su valor en un futuro. \n",
        "\n",
        "Para declarar una variable tenemos que escribir una **asignación**, posible al usar el separador **`=`**. Por ejemplo, utilicemos la función **`input`** para obtener el nombre del usuario y guardémoslo en una variable llamada **`nombre`**:"
      ]
    },
    {
      "cell_type": "code",
      "metadata": {
        "id": "VP2tIP9C2V22",
        "colab": {
          "base_uri": "https://localhost:8080/"
        },
        "outputId": "ed9c49d6-1cf2-47ad-d7c3-70a696f63c6e"
      },
      "source": [
        "nombre = input('Ingrese su nombre: ')"
      ],
      "execution_count": null,
      "outputs": [
        {
          "output_type": "stream",
          "text": [
            "Ingrese su nombre: Pepe\n"
          ],
          "name": "stdout"
        }
      ]
    },
    {
      "cell_type": "markdown",
      "metadata": {
        "id": "KMpXYi5Z3cBH"
      },
      "source": [
        "En esta ocasión no se imprimió el valor de retorno de la función **`input`**, pero quedó asociado a la variable **`nombre`**. \n",
        "La razón por la que no se imprimió el valor en la salida de la primera celda es porque una asignación es una **sentencia**. Estas son un tipo de fragmento del código que realizan una operación, pero no retornan ningún valor.\n",
        "\n",
        "\n",
        " Otro tipo de instrucción que ya utilizamos en este material y que aparentemente no retornaba nada es la función **`print`**, que realiza una acción (imprimir algo en la salida) pero que no tiene valor real que retornar.\n",
        "\n",
        "\n",
        "Si más adelante en nuestro programa queremos recordar el valor almacenado en la variable, es suficiente con usar este nombre como si fuera un **valor**. Por ejemplo, podemos imprimir el valor contenido en la variable con la función **`print`**:\n",
        "\n",
        "\n",
        "> **Nota**: las variables y sus valores almacenados son conservados entre celdas siempre y cuando el entorno de ejecución no cambie. Esto puede suceder después de un tiempo de inactividad o al recargar la página. Si esto sucede, celdas como la anterior pueden fallar pues en la nueva conexión aún no está declarada la variable **`nombre`**."
      ]
    },
    {
      "cell_type": "code",
      "metadata": {
        "id": "LaC679-x3vS-",
        "colab": {
          "base_uri": "https://localhost:8080/"
        },
        "outputId": "24935552-626e-4d04-c16d-feabba968771"
      },
      "source": [
        "print(nombre)"
      ],
      "execution_count": null,
      "outputs": [
        {
          "output_type": "stream",
          "text": [
            "Pepe\n"
          ],
          "name": "stdout"
        }
      ]
    },
    {
      "cell_type": "markdown",
      "metadata": {
        "id": "CNiofqpA2eGO"
      },
      "source": [
        "Veamos que sucede si intentamos guardar en una variable **`p`** el valor de su ejecución:"
      ]
    },
    {
      "cell_type": "code",
      "metadata": {
        "id": "IxgBM7QH3T6P",
        "colab": {
          "base_uri": "https://localhost:8080/"
        },
        "outputId": "599c1af3-770b-41e4-cd48-bb97f6e05c42"
      },
      "source": [
        "p = print('Hola')"
      ],
      "execution_count": null,
      "outputs": [
        {
          "output_type": "stream",
          "text": [
            "Hola\n"
          ],
          "name": "stdout"
        }
      ]
    },
    {
      "cell_type": "markdown",
      "metadata": {
        "id": "zZHyVr9nWm70"
      },
      "source": [
        "La salida de la última celda corresponde a una tarea realizada por la función **`print`**, más no retorna la cadena. En este caso sí se imprime la cadena, aún cuando la operación es una **sentencia de asignación**. \n",
        "\n",
        "Entonces, ¿qué valor quedó almacenado en la variable **`p`**?"
      ]
    },
    {
      "cell_type": "code",
      "metadata": {
        "id": "GjB1TxpK4JcP"
      },
      "source": [
        "p"
      ],
      "execution_count": null,
      "outputs": []
    },
    {
      "cell_type": "markdown",
      "metadata": {
        "id": "a3fgeMR94Kij"
      },
      "source": [
        "La celda se ejecuta, pero no se imprime nada. Esto es debido a que la variable tiene como valor **literalmente nada**, o como se define en _Python_, una variable con valor **`None`**, de tipo **`NoneType`**.\n"
      ]
    },
    {
      "cell_type": "code",
      "metadata": {
        "id": "-aQnzPK74ZL5",
        "colab": {
          "base_uri": "https://localhost:8080/"
        },
        "outputId": "a067fe0e-8bb2-4cd3-df43-b6e8ddc2eed2"
      },
      "source": [
        "print(p)\n",
        "type(p)"
      ],
      "execution_count": null,
      "outputs": [
        {
          "output_type": "stream",
          "text": [
            "None\n"
          ],
          "name": "stdout"
        },
        {
          "output_type": "execute_result",
          "data": {
            "text/plain": [
              "NoneType"
            ]
          },
          "metadata": {
            "tags": []
          },
          "execution_count": 41
        }
      ]
    },
    {
      "cell_type": "markdown",
      "metadata": {
        "id": "vw66-dfe4mee"
      },
      "source": [
        "El concepto de variable nos ofrece una gran flexibilidad a la hora de escribir programas. Como ya habíamos mencionado, podemos volver a asignar un valor distinto a la misma variable y nombrar tantas como sea necesario. \n",
        "\n",
        "> **Nota:** esto es diferente al concepto de variable de las matemáticas. En matemáticas, si se le da a **x** el valor $3$, no puede cambiar para\n",
        "referirse a un valor diferente a la mitad de los cálculos.\n",
        "\n",
        "\n",
        "Vamos a crear una variable llamada **`num`** y asignarle un valor numérico obtenido de la **entrada del programa**."
      ]
    },
    {
      "cell_type": "code",
      "metadata": {
        "id": "4HHS8CV15DQ7",
        "colab": {
          "base_uri": "https://localhost:8080/"
        },
        "outputId": "5bd2a39a-c8a7-48ee-d6c6-32056fe22936"
      },
      "source": [
        "num = input(\"Ingrese un número entre 0 y 100: \")"
      ],
      "execution_count": null,
      "outputs": [
        {
          "output_type": "stream",
          "text": [
            "Ingrese un número entre 0 y 100: 123\n"
          ],
          "name": "stdout"
        }
      ]
    },
    {
      "cell_type": "code",
      "metadata": {
        "colab": {
          "base_uri": "https://localhost:8080/",
          "height": 35
        },
        "id": "af2B6e7KXsxz",
        "outputId": "e99a4e4a-5dfc-485f-bd43-9b5de5217e45"
      },
      "source": [
        "num"
      ],
      "execution_count": null,
      "outputs": [
        {
          "output_type": "execute_result",
          "data": {
            "application/vnd.google.colaboratory.intrinsic+json": {
              "type": "string"
            },
            "text/plain": [
              "'123'"
            ]
          },
          "metadata": {
            "tags": []
          },
          "execution_count": 12
        }
      ]
    },
    {
      "cell_type": "markdown",
      "metadata": {
        "id": "K_OLFMY8XOPQ"
      },
      "source": [
        "Como puede notar, aunque solicitamos un número, la entrada de texto siempre llega en forma de cadena de texto. Si queremos un valor numérico en vez de una cadena, podemos realizar una **conversión de tipos** con la función **`int`**.\n",
        "\n",
        "> **Nota:** tenga en cuenta que la cadena dada debe ser un número válido o la siguiente celda fallara. Para evitar esto, ejecute nuevamente la celda en la que se obtiene la entrada del programa e ingrese un número válido según las reglas discutidas para números enteros, como **`100`** o **`234_000`**."
      ]
    },
    {
      "cell_type": "code",
      "metadata": {
        "id": "5gM8zw5R45b6"
      },
      "source": [
        "num = int(num)"
      ],
      "execution_count": null,
      "outputs": []
    },
    {
      "cell_type": "code",
      "metadata": {
        "id": "4APjTPK35BwI",
        "colab": {
          "base_uri": "https://localhost:8080/"
        },
        "outputId": "01dcf150-91ec-4e70-a5d5-f71eb2c262af"
      },
      "source": [
        "print(num)"
      ],
      "execution_count": null,
      "outputs": [
        {
          "output_type": "stream",
          "text": [
            "123\n"
          ],
          "name": "stdout"
        }
      ]
    },
    {
      "cell_type": "markdown",
      "metadata": {
        "id": "WWpNWcl71WsL"
      },
      "source": [
        "El token de asignación (**=**) no debe confundirse con una comparación de igualdad (que veremos más adelante en este material). La sentencia de asignación vincula un nombre, en el lado izquierdo del operador, con un valor, en el lado derecho. Es por esto que recibirá un error si se realiza en el orden contrario:"
      ]
    },
    {
      "cell_type": "code",
      "metadata": {
        "id": "20RzVQ-11WsL",
        "colab": {
          "base_uri": "https://localhost:8080/",
          "height": 130
        },
        "outputId": "671a4c9a-6345-4e6e-f938-b12874a95992"
      },
      "source": [
        "17 = n"
      ],
      "execution_count": null,
      "outputs": [
        {
          "output_type": "error",
          "ename": "SyntaxError",
          "evalue": "ignored",
          "traceback": [
            "\u001b[0;36m  File \u001b[0;32m\"<ipython-input-19-beb598da8e38>\"\u001b[0;36m, line \u001b[0;32m1\u001b[0m\n\u001b[0;31m    17 = n\u001b[0m\n\u001b[0m          ^\u001b[0m\n\u001b[0;31mSyntaxError\u001b[0m\u001b[0;31m:\u001b[0m can't assign to literal\n"
          ]
        }
      ]
    },
    {
      "cell_type": "markdown",
      "metadata": {
        "id": "6WoVhk-K1WsM"
      },
      "source": [
        "> **Consejo:** Cuando lea o escriba el código, dígase a sí mismo **\"n tiene asignado 17\"** o **\"n obtiene el valor 17\"** o **\"n es una referencia al objeto 17\"** o **\"n se refiere al objeto 17\"**. No diga **\"n es igual a 17\"** pues esto puede denotar una comparación de igualdad."
      ]
    },
    {
      "cell_type": "markdown",
      "metadata": {
        "id": "Dpok0akN1WsM"
      },
      "source": [
        "Una forma común de representar las variables en papel es escribir el nombre con una flecha que apunta al valor de la variable. Este diagrama muestra el resultado de ejecutar las instrucciones de asignación que se muestran arriba:\n",
        "\n",
        "\n",
        "<center>\n",
        "<img src = \"https://drive.google.com/uc?export=view&id=1BoKHviw6YAF4ZF387BERzgGBMleqzgru\" alt = \"Variables y valores\" width = \"65%\">  </img> </center>\n"
      ]
    },
    {
      "cell_type": "code",
      "metadata": {
        "id": "akBDB6nDuMap"
      },
      "source": [
        "n = 17\n",
        "pi = 3.14159\n",
        "message = \"¡Hola! ¿Qué tal todo?\""
      ],
      "execution_count": null,
      "outputs": []
    },
    {
      "cell_type": "markdown",
      "metadata": {
        "id": "sOdPaoQH1WsM"
      },
      "source": [
        "Las variables, al contener un valor, también tienen un tipo de dato asociado. Este corresponde al tipo del valor al cual se refiere:"
      ]
    },
    {
      "cell_type": "code",
      "metadata": {
        "id": "Mvfbkov91WsM",
        "colab": {
          "base_uri": "https://localhost:8080/"
        },
        "outputId": "486fe1da-f7a3-42e5-e013-38efd880122a"
      },
      "source": [
        "print(type(pi))\n",
        "print(type(message))\n",
        "print(type(n))"
      ],
      "execution_count": null,
      "outputs": [
        {
          "output_type": "stream",
          "text": [
            "<class 'float'>\n",
            "<class 'str'>\n",
            "<class 'int'>\n"
          ],
          "name": "stdout"
        }
      ]
    },
    {
      "cell_type": "markdown",
      "metadata": {
        "id": "H7mk1A939_8c"
      },
      "source": [
        "> **Atención:** _Python_ es débilmente tipado. Esto quiere decir que para almacenar un dato en una variable, no se requiere definir de antemano qué tipo de dato va a representar, simplificando la definición de variables para escribir código rápidamente. Por esta razón no se fija de forma estricta el tipo de dato de una variable, permitiendo casos como el ejemplo anterior, en el que se asigna una cadena de texto y luego un valor numérico. Este detalle puede producir resultados inesperados si no se trata con cuidado con el tipo de dato que se utiliza."
      ]
    },
    {
      "cell_type": "code",
      "metadata": {
        "id": "JHVFmD8d1WsN",
        "colab": {
          "base_uri": "https://localhost:8080/"
        },
        "outputId": "3327b42f-45ea-478b-98a1-33fb88584504"
      },
      "source": [
        "n = \"2\"\n",
        "print(type(n))"
      ],
      "execution_count": null,
      "outputs": [
        {
          "output_type": "stream",
          "text": [
            "<class 'str'>\n"
          ],
          "name": "stdout"
        }
      ]
    },
    {
      "cell_type": "code",
      "metadata": {
        "id": "IkJlx4p8-Zpq",
        "colab": {
          "base_uri": "https://localhost:8080/"
        },
        "outputId": "b7731e6e-fba9-4086-c32a-bf6ae5e65b7c"
      },
      "source": [
        "n = 2\n",
        "print(type(n))"
      ],
      "execution_count": null,
      "outputs": [
        {
          "output_type": "stream",
          "text": [
            "<class 'int'>\n"
          ],
          "name": "stdout"
        }
      ]
    },
    {
      "cell_type": "markdown",
      "metadata": {
        "id": "0trRwzhe-h_q"
      },
      "source": [
        "Podemos incluso asignar valores entre variables. En este caso, vamos a asignar a la variable **`n`** el valor de la variable **`nombre`**."
      ]
    },
    {
      "cell_type": "code",
      "metadata": {
        "id": "Kd7DOZN_-l8A",
        "colab": {
          "base_uri": "https://localhost:8080/",
          "height": 36
        },
        "outputId": "87ca1378-b88b-4806-9d28-2522da51dfad"
      },
      "source": [
        "n = nombre\n",
        "n"
      ],
      "execution_count": null,
      "outputs": [
        {
          "output_type": "execute_result",
          "data": {
            "application/vnd.google.colaboratory.intrinsic+json": {
              "type": "string"
            },
            "text/plain": [
              "'Saúl'"
            ]
          },
          "metadata": {
            "tags": []
          },
          "execution_count": 50
        }
      ]
    },
    {
      "cell_type": "markdown",
      "metadata": {
        "id": "yNnN4KweEgmn"
      },
      "source": [
        "> **Pregunta**: ¿cuál cree que será el resultado de ejecutar la siguiente celda? ¿es válida la sentencia de la línea 5?\n",
        "\n",
        "```python\n",
        "a = 10\n",
        "b = 15\n",
        "c = 20\n",
        "\n",
        "c = b = a = 1\n",
        "print(c)\n",
        "```\n",
        "\n",
        "<details>\n",
        "  <summary> <b>Respuesta</b> </summary>\n",
        "\n",
        "  > La expresión **SÍ** es válida y da como resultado el valor $1$. Como se verá más adelante cuando se discuta la precedencia de operadores, _Python_ le asigna el valor $1$ a **`a`**, luego le asigna el valor de **`a`** a **`b`** y finalmente le asigna el valor de **`b`** a **`c`**, que es impreso en la salida en la última línea.\n",
        "\n",
        "</details>"
      ]
    },
    {
      "cell_type": "markdown",
      "metadata": {
        "id": "6DaMYW0k-u0j"
      },
      "source": [
        "###**3.1. Reglas de nombrado de variables**\n",
        "---\n",
        "Los nombres permitidos para variables en *Python* deben cumplir las siguientes condiciones.\n",
        "\n",
        "*    Deben estar compuestos por números del **`0-9`**, caracteres alfabéticos en mayúscula o minúscula (**`A-Z`** y **`a-z`**) y por el símbolo de guion bajo **`_`**. \n",
        "\n",
        "> **Nota**: En *Python* existen algunas convenciones consideradas buenas prácticas a la hora de escribir código en este lenguaje. Una de ellas es la forma de asignar nombres a variables, en la que se recomienda escribir palabras en minúscula separadas por un guion bajo (**`_`**).\n",
        "\n",
        "\n",
        "\n"
      ]
    },
    {
      "cell_type": "code",
      "metadata": {
        "id": "Gc9zltqL-5L8",
        "colab": {
          "base_uri": "https://localhost:8080/"
        },
        "outputId": "986fb5e0-7a13-4281-fdfd-69a0424d4c63"
      },
      "source": [
        "primer_nombre = \"Juan\"\n",
        "print(primer_nombre)"
      ],
      "execution_count": null,
      "outputs": [
        {
          "output_type": "stream",
          "text": [
            "Juan\n"
          ],
          "name": "stdout"
        }
      ]
    },
    {
      "cell_type": "markdown",
      "metadata": {
        "id": "7nmKQEnJDZ2p"
      },
      "source": [
        "*   Si tienen un número, no puede ser el primer carácter."
      ]
    },
    {
      "cell_type": "code",
      "metadata": {
        "id": "saIPM7pX-5L9",
        "colab": {
          "base_uri": "https://localhost:8080/",
          "height": 135
        },
        "outputId": "73f20f2e-5ef9-434d-de99-9c3e906fbefb"
      },
      "source": [
        "1er_nombre = \"Juan\"\n",
        "print(1er_nombre)"
      ],
      "execution_count": null,
      "outputs": [
        {
          "output_type": "error",
          "ename": "SyntaxError",
          "evalue": "ignored",
          "traceback": [
            "\u001b[0;36m  File \u001b[0;32m\"<ipython-input-52-e792fb5d4351>\"\u001b[0;36m, line \u001b[0;32m1\u001b[0m\n\u001b[0;31m    1er_nombre = \"Juan\"\u001b[0m\n\u001b[0m             ^\u001b[0m\n\u001b[0;31mSyntaxError\u001b[0m\u001b[0;31m:\u001b[0m invalid syntax\n"
          ]
        }
      ]
    },
    {
      "cell_type": "code",
      "metadata": {
        "id": "VAdfGKT8DDt8",
        "colab": {
          "base_uri": "https://localhost:8080/"
        },
        "outputId": "91bbeda1-6ddf-40d3-f658-1db38590081e"
      },
      "source": [
        "__123__ = 123\n",
        "print(__123__)"
      ],
      "execution_count": null,
      "outputs": [
        {
          "output_type": "stream",
          "text": [
            "123\n"
          ],
          "name": "stdout"
        }
      ]
    },
    {
      "cell_type": "markdown",
      "metadata": {
        "id": "IYk7_-e1DkoD"
      },
      "source": [
        "Los nombres de variables distinguen entre mayúsculas y minúsculas. Por ejemplo, **`var`**,  **`VAR`** y **`Var`** se interpretan como variables distintas."
      ]
    },
    {
      "cell_type": "code",
      "metadata": {
        "id": "q3RZ0fHdDl_7"
      },
      "source": [
        "var = 1\n",
        "VAR = 2\n",
        "Var = 3"
      ],
      "execution_count": null,
      "outputs": []
    },
    {
      "cell_type": "code",
      "metadata": {
        "id": "TJ1rcwBHDqb-",
        "colab": {
          "base_uri": "https://localhost:8080/"
        },
        "outputId": "6521c155-2334-4e7d-9625-253cd77f44ff"
      },
      "source": [
        "print(var)\n",
        "print(VAR)\n",
        "print(Var)"
      ],
      "execution_count": null,
      "outputs": [
        {
          "output_type": "stream",
          "text": [
            "1\n",
            "2\n",
            "3\n"
          ],
          "name": "stdout"
        }
      ]
    },
    {
      "cell_type": "markdown",
      "metadata": {
        "id": "fKDU5Vgq-5L-"
      },
      "source": [
        "También existen ciertas palabras especiales que **NO** pueden ser usadas como nombres de variables, estas son las **palabras reservadas**. El lenguaje de programación usa las palabras reservadas para definir sus reglas y estructura. _Python_ tiene aproximadamente _30_ palabras reservadas, las cuales se enlistan a continuación:\n"
      ]
    },
    {
      "cell_type": "code",
      "metadata": {
        "id": "NZJfyJdl-5L-",
        "colab": {
          "base_uri": "https://localhost:8080/"
        },
        "outputId": "95391cbd-aeb4-469a-c4d6-22429a023b2f"
      },
      "source": [
        "help(\"keywords\")"
      ],
      "execution_count": null,
      "outputs": [
        {
          "output_type": "stream",
          "text": [
            "\n",
            "Here is a list of the Python keywords.  Enter any keyword to get more help.\n",
            "\n",
            "False               class               from                or\n",
            "None                continue            global              pass\n",
            "True                def                 if                  raise\n",
            "and                 del                 import              return\n",
            "as                  elif                in                  try\n",
            "assert              else                is                  while\n",
            "async               except              lambda              with\n",
            "await               finally             nonlocal            yield\n",
            "break               for                 not                 \n",
            "\n"
          ],
          "name": "stdout"
        }
      ]
    },
    {
      "cell_type": "markdown",
      "metadata": {
        "id": "7WyksEWHDz-8"
      },
      "source": [
        "Muchas de ellas las iremos introduciendo a lo largo del curso. Además de estas, existen nombres de variables que, si bien están permitidas, no deberían usarse pues sobreescribirían funciones de la librería estándar. \n",
        "\n",
        "Por ejemplo, no se recomienda crear una variable llamada **`print`** pues reemplazaría el método de impresión en la salida del código."
      ]
    },
    {
      "cell_type": "markdown",
      "metadata": {
        "id": "hkZq2Rq9GXtN"
      },
      "source": [
        "## **4. Operadores**\n",
        "---\n",
        "Tras discutir la similitud de la escritura de valores numéricos con una calculadora científica es lógico pensar que se puede realizar este tipo de operaciones en un programa de _Python_. Esto es posible con el concepto de **operadores**, otra unidad gramatical del lenguaje que relaciona valores con el objetivo de obtener un resultado apropiado. En esta sección discutiremos los operadores básicos usados en los tipos de datos de texto y numérico."
      ]
    },
    {
      "cell_type": "markdown",
      "metadata": {
        "id": "v2voXl3yHSqZ"
      },
      "source": [
        "### **4.1. Operadores numéricos**\n",
        "---\n",
        "\n",
        "La especificación de _Python_ define una serie de operadores matemáticos básicos que pueden ser usados con sus tipos de datos numéricos. El más básico de ellos es el de **negación numérica**. Este indica al intérprete que el valor que se encuentre a continuación deberá ser negado, o multiplicado por $-1$.\n",
        "\n",
        "\n",
        "\n",
        "\n",
        "\n"
      ]
    },
    {
      "cell_type": "code",
      "metadata": {
        "id": "hnmLDi8eHsr6",
        "colab": {
          "base_uri": "https://localhost:8080/"
        },
        "outputId": "a63eb65f-1e3a-45c4-da63-0422ac4f36ee"
      },
      "source": [
        "-5000"
      ],
      "execution_count": null,
      "outputs": [
        {
          "output_type": "execute_result",
          "data": {
            "text/plain": [
              "-5000"
            ]
          },
          "metadata": {
            "tags": []
          },
          "execution_count": 57
        }
      ]
    },
    {
      "cell_type": "markdown",
      "metadata": {
        "id": "WFEIudflHuxy"
      },
      "source": [
        "Como se mencionó antes, este valor no es un literal numérico, sino que tiene la siguiente estructura:\n",
        "\n",
        "```\n",
        "OPERADOR VALOR\n",
        "```\n",
        "\n",
        "Para el resto de operadores, se considera una estructura que involucra dos valores literales $A$ y $B$:\n",
        "\n",
        "```\n",
        "VALOR_A OPERADOR VALOR_B\n",
        "```\n",
        "\n",
        "Por ejemplo, para realizar una suma y una resta se utilizan los símbolos **`+`** y **`-`**, que son interpretados como operadores válidos de _Python_.\n",
        "\n"
      ]
    },
    {
      "cell_type": "code",
      "metadata": {
        "id": "V6CDfR0YIU-7",
        "colab": {
          "base_uri": "https://localhost:8080/"
        },
        "outputId": "011dde9c-01bb-43ea-db13-988c6e8504ce"
      },
      "source": [
        "100 + 20"
      ],
      "execution_count": null,
      "outputs": [
        {
          "output_type": "execute_result",
          "data": {
            "text/plain": [
              "120"
            ]
          },
          "metadata": {
            "tags": []
          },
          "execution_count": 58
        }
      ]
    },
    {
      "cell_type": "markdown",
      "metadata": {
        "id": "DTBsblVYIZ5n"
      },
      "source": [
        "Los espacios entre ellos son ignorados por el intérprete."
      ]
    },
    {
      "cell_type": "code",
      "metadata": {
        "id": "FvCIOr2ZIXaD",
        "colab": {
          "base_uri": "https://localhost:8080/"
        },
        "outputId": "73248538-fb4d-4365-e5cd-791098968f69"
      },
      "source": [
        "100-          20"
      ],
      "execution_count": null,
      "outputs": [
        {
          "output_type": "execute_result",
          "data": {
            "text/plain": [
              "80"
            ]
          },
          "metadata": {
            "tags": []
          },
          "execution_count": 59
        }
      ]
    },
    {
      "cell_type": "code",
      "metadata": {
        "id": "JveBPkspHhNU",
        "colab": {
          "base_uri": "https://localhost:8080/"
        },
        "outputId": "d684d3ea-5536-40c5-e6cb-031511d2168c"
      },
      "source": [
        "10 + 4.0"
      ],
      "execution_count": null,
      "outputs": [
        {
          "output_type": "execute_result",
          "data": {
            "text/plain": [
              "14.0"
            ]
          },
          "metadata": {
            "tags": []
          },
          "execution_count": 60
        }
      ]
    },
    {
      "cell_type": "markdown",
      "metadata": {
        "id": "wGDYSATsIirG"
      },
      "source": [
        "> **¿Qué sucede si intentamos sumar un número entero y un número complejo?**\n",
        "\n",
        "\n",
        "_Python_ permite realizar este tipo de operaciones produciendo un valor en un tipo de dato más general, cuando la operación sea válida en su definición. Por ejemplo, definamos tres variables con cada tipo de dato y realicemos su operación.\n",
        "\n",
        "\n",
        "\n"
      ]
    },
    {
      "cell_type": "code",
      "metadata": {
        "id": "pg9YJqQqJOGy",
        "colab": {
          "base_uri": "https://localhost:8080/"
        },
        "outputId": "2ca31d1f-cb4c-4e9c-8ad5-69f86fbda94c"
      },
      "source": [
        "var_i = 20\n",
        "type(var_i)"
      ],
      "execution_count": null,
      "outputs": [
        {
          "output_type": "execute_result",
          "data": {
            "text/plain": [
              "int"
            ]
          },
          "metadata": {
            "tags": []
          },
          "execution_count": 4
        }
      ]
    },
    {
      "cell_type": "code",
      "metadata": {
        "id": "MF8On9HSJYWk",
        "colab": {
          "base_uri": "https://localhost:8080/"
        },
        "outputId": "a25d41cb-9d1a-44cd-9f37-6c17f9959f2b"
      },
      "source": [
        "var_f = 10.5\n",
        "type(var_f)"
      ],
      "execution_count": null,
      "outputs": [
        {
          "output_type": "execute_result",
          "data": {
            "text/plain": [
              "float"
            ]
          },
          "metadata": {
            "tags": []
          },
          "execution_count": 6
        }
      ]
    },
    {
      "cell_type": "code",
      "metadata": {
        "id": "DXVPqQaHJdX6",
        "colab": {
          "base_uri": "https://localhost:8080/"
        },
        "outputId": "08f4e863-d310-4596-eb54-a6e3b985fd6c"
      },
      "source": [
        "var_c = 23 + 10.5j\n",
        "type(var_c)"
      ],
      "execution_count": null,
      "outputs": [
        {
          "output_type": "execute_result",
          "data": {
            "text/plain": [
              "complex"
            ]
          },
          "metadata": {
            "tags": []
          },
          "execution_count": 7
        }
      ]
    },
    {
      "cell_type": "markdown",
      "metadata": {
        "id": "1EiBTNP6JoLb"
      },
      "source": [
        "Si sumamos dos valores del mismo tipo de dato, el resultado será del mismo tipo."
      ]
    },
    {
      "cell_type": "code",
      "metadata": {
        "id": "8h3hRLjDJvIK",
        "colab": {
          "base_uri": "https://localhost:8080/"
        },
        "outputId": "9829460e-9c25-43b2-d90b-5aaf7c36298b"
      },
      "source": [
        "var_i + var_i"
      ],
      "execution_count": null,
      "outputs": [
        {
          "output_type": "execute_result",
          "data": {
            "text/plain": [
              "40"
            ]
          },
          "metadata": {
            "tags": []
          },
          "execution_count": 8
        }
      ]
    },
    {
      "cell_type": "code",
      "metadata": {
        "id": "c1ehuq1kJwj4",
        "colab": {
          "base_uri": "https://localhost:8080/"
        },
        "outputId": "1824f5b6-b186-4950-ff85-0a024a34d594"
      },
      "source": [
        "var_f + var_f"
      ],
      "execution_count": null,
      "outputs": [
        {
          "output_type": "execute_result",
          "data": {
            "text/plain": [
              "21.0"
            ]
          },
          "metadata": {
            "tags": []
          },
          "execution_count": 9
        }
      ]
    },
    {
      "cell_type": "code",
      "metadata": {
        "id": "r5eXuh-bJxhc",
        "colab": {
          "base_uri": "https://localhost:8080/"
        },
        "outputId": "fb7702a8-6640-4ea1-ccc9-99672caf10c2"
      },
      "source": [
        "var_c + var_c"
      ],
      "execution_count": null,
      "outputs": [
        {
          "output_type": "execute_result",
          "data": {
            "text/plain": [
              "(46+21j)"
            ]
          },
          "metadata": {
            "tags": []
          },
          "execution_count": 10
        }
      ]
    },
    {
      "cell_type": "markdown",
      "metadata": {
        "id": "DYd8QJjQJypD"
      },
      "source": [
        "Si cruzamos tipos, se intenta generalizar y convertir uno de los tipos y realizar la operación en tipos iguales. Por ejemplo, si sumamos el entero y el decimal, se puede interpretar al entero como un valor real con $0$ en su parte decimal."
      ]
    },
    {
      "cell_type": "code",
      "metadata": {
        "id": "OwT7k3DKKPL_",
        "colab": {
          "base_uri": "https://localhost:8080/"
        },
        "outputId": "2ae48f61-8f0f-439d-e860-b70eeb6c6416"
      },
      "source": [
        "var_i + var_f"
      ],
      "execution_count": null,
      "outputs": [
        {
          "output_type": "execute_result",
          "data": {
            "text/plain": [
              "30.5"
            ]
          },
          "metadata": {
            "tags": []
          },
          "execution_count": 11
        }
      ]
    },
    {
      "cell_type": "code",
      "metadata": {
        "id": "tSUvLZG5KQX8",
        "colab": {
          "base_uri": "https://localhost:8080/"
        },
        "outputId": "22863617-4e42-4341-8f00-8db31c9ea8b2"
      },
      "source": [
        "type(var_i + var_f)"
      ],
      "execution_count": null,
      "outputs": [
        {
          "output_type": "execute_result",
          "data": {
            "text/plain": [
              "float"
            ]
          },
          "metadata": {
            "tags": []
          },
          "execution_count": 12
        }
      ]
    },
    {
      "cell_type": "markdown",
      "metadata": {
        "id": "hTDsdVgxKSMp"
      },
      "source": [
        "Finalmente, si se opera un entero o un decimal con un complejo, estos se interpretan como la parte real de un complejo con $0$ en su parte imaginaria. Veamos el resultado:"
      ]
    },
    {
      "cell_type": "code",
      "metadata": {
        "id": "1MC-iRRTKdwA",
        "colab": {
          "base_uri": "https://localhost:8080/"
        },
        "outputId": "906c31e7-331f-456d-d139-9bae0480524f"
      },
      "source": [
        "var_i + var_c"
      ],
      "execution_count": null,
      "outputs": [
        {
          "output_type": "execute_result",
          "data": {
            "text/plain": [
              "(43+10.5j)"
            ]
          },
          "metadata": {
            "tags": []
          },
          "execution_count": 13
        }
      ]
    },
    {
      "cell_type": "code",
      "metadata": {
        "id": "yqTtab61Kl5b",
        "colab": {
          "base_uri": "https://localhost:8080/"
        },
        "outputId": "8fa17449-d092-4609-f04f-810de2a3f527"
      },
      "source": [
        "var_f + var_c"
      ],
      "execution_count": null,
      "outputs": [
        {
          "output_type": "execute_result",
          "data": {
            "text/plain": [
              "(33.5+10.5j)"
            ]
          },
          "metadata": {
            "tags": []
          },
          "execution_count": 14
        }
      ]
    },
    {
      "cell_type": "markdown",
      "metadata": {
        "id": "yZ2DpbTMKoxt"
      },
      "source": [
        "Esta regla se aplica al resto de operadores, siempre y cuando su operación tenga sentido para el tipo de dato. A continuación, se presenta una tabla de operadores matemáticos:\n",
        "\n",
        "\n",
        "| **Símbolos del operador** | **Operación representada** | **Escritura** | **Notación matemática** |\n",
        "| --- | --- | --- | --- |\n",
        "| **`-`** (antes de un valor) | Negación numérica | **`-a`** | $-a$ |\n",
        "| **`-`** (entre dos valores) | Substracción | **`a - b`** | $a - b$ |\n",
        "| **`+`**  | Adición | **`a + b`** |$a + b$ |\n",
        "| **`*`**  | Multiplicación | **`a * b`** | $a \\times b$ |\n",
        "| **`/`**  | División | **`a / b`** | $a \\div b$ |\n",
        "| **`%`**  | [Módulo o residuo](https://es.wikipedia.org/wiki/Resto) | **`a % b`** | $a \\mod b$ |\n",
        "| **` ** `**  | Exponenciación | **`a ** b`** | $a^b$ |\n",
        "| **`//`**  |  División entera o división [piso](https://es.wikipedia.org/wiki/Funciones_de_parte_entera#Función_piso/suelo/parte_entera)  | **`a // b`** | $\\lfloor a \\div b \\rfloor$ |\n",
        "\n",
        "\n",
        "La operación de **módulo** (**`%`**) es el resto o residuo de una división entera, obtenido en un proceso tradicional de división a mano. Por su parte, el operador de **división piso** produce el entero inmediatamente menor de la división. Esto corresponde al **cociente** de la división entera únicamente para números positivos.\n",
        "\n",
        "Por ejemplo, si quisiéramos saber a cuánto equivalen $951$ minutos en el formato de horas y minutos podemos realizar la división $951 \\div 60$, de la que obtendríamos como **cociente** el valor $15$ y como **residuo o resto** el valor $51$, para un total de $15$ horas con $51$ minutos. \n",
        "<center>\n",
        "<img src = \"https://drive.google.com/uc?export=view&id=16HUVO0URVz3DvQFpjfm4uc67XrFM1sJ9\" alt = \"Ejemplo de división\" width = \"50%\">  </img> </center>\n",
        "\n",
        "Podemos obtener estos valores con las operaciones de módulo y división piso:\n",
        "\n"
      ]
    },
    {
      "cell_type": "code",
      "metadata": {
        "colab": {
          "base_uri": "https://localhost:8080/"
        },
        "id": "6aOGT4qigHwI",
        "outputId": "ab061145-6cf6-4c71-8203-c444eecb974f"
      },
      "source": [
        "# Operador division normal\n",
        "951 / 60"
      ],
      "execution_count": null,
      "outputs": [
        {
          "output_type": "execute_result",
          "data": {
            "text/plain": [
              "15.85"
            ]
          },
          "metadata": {
            "tags": []
          },
          "execution_count": 1
        }
      ]
    },
    {
      "cell_type": "code",
      "metadata": {
        "id": "jKwGKxMqiV7k",
        "colab": {
          "base_uri": "https://localhost:8080/"
        },
        "outputId": "9a97101a-eba2-4fff-fa2a-5826215e14b9"
      },
      "source": [
        "# Operador división entera\n",
        "951 // 60"
      ],
      "execution_count": null,
      "outputs": [
        {
          "output_type": "execute_result",
          "data": {
            "text/plain": [
              "15"
            ]
          },
          "metadata": {
            "tags": []
          },
          "execution_count": 74
        }
      ]
    },
    {
      "cell_type": "code",
      "metadata": {
        "id": "1q0Ga8rGPSk-",
        "colab": {
          "base_uri": "https://localhost:8080/"
        },
        "outputId": "e4ebb2b7-2495-4c95-e65b-7489928bc063"
      },
      "source": [
        "# Operador módulo o residuo\n",
        "951 % 60"
      ],
      "execution_count": null,
      "outputs": [
        {
          "output_type": "execute_result",
          "data": {
            "text/plain": [
              "51"
            ]
          },
          "metadata": {
            "tags": []
          },
          "execution_count": 73
        }
      ]
    },
    {
      "cell_type": "markdown",
      "metadata": {
        "id": "8ux-VDCNjqEM"
      },
      "source": [
        "El valor obtenido al realizar **división piso** con números negativos es distinto al cociente de la división. Por ejemplo:\n",
        "\n",
        "\n",
        "\n"
      ]
    },
    {
      "cell_type": "code",
      "metadata": {
        "colab": {
          "base_uri": "https://localhost:8080/"
        },
        "id": "NNZnlXq98acG",
        "outputId": "ce686595-bab2-49ef-8e5d-9735d30d3365"
      },
      "source": [
        "951 // 60"
      ],
      "execution_count": null,
      "outputs": [
        {
          "output_type": "execute_result",
          "data": {
            "text/plain": [
              "15"
            ]
          },
          "metadata": {},
          "execution_count": 1
        }
      ]
    },
    {
      "cell_type": "code",
      "metadata": {
        "id": "bUOR38HBjtkc",
        "colab": {
          "base_uri": "https://localhost:8080/"
        },
        "outputId": "679dfb79-561b-4d78-b695-9b473d4639d4"
      },
      "source": [
        "- 951 // 60"
      ],
      "execution_count": null,
      "outputs": [
        {
          "output_type": "execute_result",
          "data": {
            "text/plain": [
              "-16"
            ]
          },
          "metadata": {},
          "execution_count": 2
        }
      ]
    },
    {
      "cell_type": "markdown",
      "metadata": {
        "id": "oTvt3-ChHhNT"
      },
      "source": [
        "\n",
        "Este detalle es importante pues la **división piso** es una operación más común en computación. Ninguno de estos dos operadores está definido para números complejos. Ejecutar una operación dará como resultado un **error de tipo**."
      ]
    },
    {
      "cell_type": "code",
      "metadata": {
        "id": "pp2ToIWWktn2",
        "colab": {
          "base_uri": "https://localhost:8080/",
          "height": 172
        },
        "outputId": "7183521c-779d-44f9-8317-c661cae68492"
      },
      "source": [
        "c // a"
      ],
      "execution_count": null,
      "outputs": [
        {
          "output_type": "error",
          "ename": "TypeError",
          "evalue": "ignored",
          "traceback": [
            "\u001b[0;31m---------------------------------------------------------------------------\u001b[0m",
            "\u001b[0;31mTypeError\u001b[0m                                 Traceback (most recent call last)",
            "\u001b[0;32m<ipython-input-76-42675b65c4ca>\u001b[0m in \u001b[0;36m<module>\u001b[0;34m()\u001b[0m\n\u001b[0;32m----> 1\u001b[0;31m \u001b[0mc\u001b[0m \u001b[0;34m//\u001b[0m \u001b[0ma\u001b[0m\u001b[0;34m\u001b[0m\u001b[0;34m\u001b[0m\u001b[0m\n\u001b[0m",
            "\u001b[0;31mTypeError\u001b[0m: can't take floor of complex number."
          ]
        }
      ]
    },
    {
      "cell_type": "markdown",
      "metadata": {
        "id": "oAIHGZD0V6ko"
      },
      "source": [
        "Cuando se manejan variables es muy común realizar operaciones sobre algo y reasignarlo, como vimos en el primer ejercicio de la sección."
      ]
    },
    {
      "cell_type": "code",
      "metadata": {
        "id": "XTKZs3fVWJHh",
        "colab": {
          "base_uri": "https://localhost:8080/"
        },
        "outputId": "a36ab6a7-23f3-46dc-c7db-1b5ea2110b89"
      },
      "source": [
        "a = 500\n",
        "a = a + 20\n",
        "a = a * 2\n",
        "\n",
        "a"
      ],
      "execution_count": null,
      "outputs": [
        {
          "output_type": "execute_result",
          "data": {
            "text/plain": [
              "1040"
            ]
          },
          "metadata": {
            "tags": []
          },
          "execution_count": 77
        }
      ]
    },
    {
      "cell_type": "markdown",
      "metadata": {
        "id": "kgw9rGLqWQbt"
      },
      "source": [
        "_Python_ permite resumir esta tarea con los distintos operadores de asignación asociados a cada operador. Para esto, usamos una secuencia compuesta por el operador a utilizar (por ejemplo, una suma con **`+`**) seguido por el carácter de asignación **`=`**, dando como resultado el operador de asignación **`+=`**. Entonces, una operación como esta:"
      ]
    },
    {
      "cell_type": "code",
      "metadata": {
        "id": "sCg1I8BkXJJt",
        "colab": {
          "base_uri": "https://localhost:8080/"
        },
        "outputId": "db310b2b-55ac-4a86-a8e8-e6334a6d2b3b"
      },
      "source": [
        "a = 0\n",
        "a = a + 1\n",
        "\n",
        "a"
      ],
      "execution_count": null,
      "outputs": [
        {
          "output_type": "execute_result",
          "data": {
            "text/plain": [
              "1"
            ]
          },
          "metadata": {
            "tags": []
          },
          "execution_count": 78
        }
      ]
    },
    {
      "cell_type": "markdown",
      "metadata": {
        "id": "fPXxkmzaXMYv"
      },
      "source": [
        "Se puede resumir de esta manera:"
      ]
    },
    {
      "cell_type": "code",
      "metadata": {
        "id": "HhfMiaXmXO6J",
        "colab": {
          "base_uri": "https://localhost:8080/"
        },
        "outputId": "439673f0-f04c-44fe-8a01-4e3f9d4d3795"
      },
      "source": [
        "a = 0\n",
        "a += 1\n",
        "\n",
        "a"
      ],
      "execution_count": null,
      "outputs": [
        {
          "output_type": "execute_result",
          "data": {
            "text/plain": [
              "1"
            ]
          },
          "metadata": {
            "tags": []
          },
          "execution_count": 15
        }
      ]
    },
    {
      "cell_type": "markdown",
      "metadata": {
        "id": "yKCvLsz8XXiC"
      },
      "source": [
        "y de igual manera con el resto de los operadores discutidos:"
      ]
    },
    {
      "cell_type": "code",
      "metadata": {
        "id": "_B3kZemzXbKw",
        "colab": {
          "base_uri": "https://localhost:8080/"
        },
        "outputId": "9cd37c68-168f-4983-a3d0-60bbec8d141a"
      },
      "source": [
        "a = 0\n",
        "\n",
        "a += 10\n",
        "a -= 5\n",
        "a *= 2\n",
        "a /= 5\n",
        "a **= 3\n",
        "\n",
        "a"
      ],
      "execution_count": null,
      "outputs": [
        {
          "output_type": "execute_result",
          "data": {
            "text/plain": [
              "8.0"
            ]
          },
          "metadata": {
            "tags": []
          },
          "execution_count": 16
        }
      ]
    },
    {
      "cell_type": "markdown",
      "metadata": {
        "id": "FH26asGmsQ5U"
      },
      "source": [
        "### **4.2. Operadores en cadenas de texto**\n",
        "---\n",
        "\n",
        "De acuerdo con el contexto, _Python_ determina la acción apropiada para cada tipo de dato cuando se utiliza un operador determinado. En el caso de las cadenas de texto, operaciones como la suma o la multiplicación no están definidas, por lo que operadores como **`+`** y **`*`** quedan disponibles para darles un significado y una operación distinta.\n",
        "\n",
        "En el caso del operador **`+`** es posible realizar la operación de **concatenación**. Esta operación genera una cadena con el contenido de sus operandos uno detrás del otro. Por ejemplo, intentemos realizar una operación entre las cadenas **`'5'`** y **`'10'`**.\n",
        "\n",
        "\n",
        "\n",
        "\n",
        "\n"
      ]
    },
    {
      "cell_type": "code",
      "metadata": {
        "id": "alF8QX5Is5ar",
        "colab": {
          "base_uri": "https://localhost:8080/",
          "height": 36
        },
        "outputId": "f706ad55-f8e9-456e-8b3d-23c33a853a9e"
      },
      "source": [
        "'5' + '10'"
      ],
      "execution_count": null,
      "outputs": [
        {
          "output_type": "execute_result",
          "data": {
            "application/vnd.google.colaboratory.intrinsic+json": {
              "type": "string"
            },
            "text/plain": [
              "'510'"
            ]
          },
          "metadata": {
            "tags": []
          },
          "execution_count": 79
        }
      ]
    },
    {
      "cell_type": "markdown",
      "metadata": {
        "id": "olrEfq6wtkkF"
      },
      "source": [
        "En este caso, es necesario que los dos operandos sean valores de tipo texto. Si intentamos sumar un valor de otro tipo, como un número entero, con una cadena, se producirá un error de tipo."
      ]
    },
    {
      "cell_type": "code",
      "metadata": {
        "id": "UD0dtyewthh8",
        "colab": {
          "base_uri": "https://localhost:8080/",
          "height": 172
        },
        "outputId": "047a26e1-4832-4486-bd64-7922ad7af842"
      },
      "source": [
        "50 + '5'"
      ],
      "execution_count": null,
      "outputs": [
        {
          "output_type": "error",
          "ename": "TypeError",
          "evalue": "ignored",
          "traceback": [
            "\u001b[0;31m---------------------------------------------------------------------------\u001b[0m",
            "\u001b[0;31mTypeError\u001b[0m                                 Traceback (most recent call last)",
            "\u001b[0;32m<ipython-input-80-2325ac1feebf>\u001b[0m in \u001b[0;36m<module>\u001b[0;34m()\u001b[0m\n\u001b[0;32m----> 1\u001b[0;31m \u001b[0;36m50\u001b[0m \u001b[0;34m+\u001b[0m \u001b[0;34m'5'\u001b[0m\u001b[0;34m\u001b[0m\u001b[0;34m\u001b[0m\u001b[0m\n\u001b[0m",
            "\u001b[0;31mTypeError\u001b[0m: unsupported operand type(s) for +: 'int' and 'str'"
          ]
        }
      ]
    },
    {
      "cell_type": "markdown",
      "metadata": {
        "id": "5pgLUruytwsu"
      },
      "source": [
        "Para solucionar esto, es tan sencillo como realizar la conversión (tal como se vio en secciones anteriores) del valor que no corresponda al tipo adecuado. Si queremos realizar una concatenación convertimos el número a una cadena:"
      ]
    },
    {
      "cell_type": "code",
      "metadata": {
        "id": "YERu6b2euAme",
        "colab": {
          "base_uri": "https://localhost:8080/",
          "height": 36
        },
        "outputId": "ac0cb0ec-43d1-4006-8645-ae653ea66aef"
      },
      "source": [
        "str(50) + '5'"
      ],
      "execution_count": null,
      "outputs": [
        {
          "output_type": "execute_result",
          "data": {
            "application/vnd.google.colaboratory.intrinsic+json": {
              "type": "string"
            },
            "text/plain": [
              "'505'"
            ]
          },
          "metadata": {
            "tags": []
          },
          "execution_count": 81
        }
      ]
    },
    {
      "cell_type": "markdown",
      "metadata": {
        "id": "PeX_4iEpu1XK"
      },
      "source": [
        "Y si queremos hacer una suma convertimos la cadena a un número entero:"
      ]
    },
    {
      "cell_type": "code",
      "metadata": {
        "id": "k_YPzt0euxV5",
        "colab": {
          "base_uri": "https://localhost:8080/"
        },
        "outputId": "beab9047-6b4b-46d2-a92b-22292a673aa4"
      },
      "source": [
        "50 + int('5')"
      ],
      "execution_count": null,
      "outputs": [
        {
          "output_type": "execute_result",
          "data": {
            "text/plain": [
              "55"
            ]
          },
          "metadata": {
            "tags": []
          },
          "execution_count": 82
        }
      ]
    },
    {
      "cell_type": "markdown",
      "metadata": {
        "id": "QGVYj3xNtN8B"
      },
      "source": [
        "Por su parte, el operador **`*`** permite realizar la operación de **repetición**. Para esta, el segundo operando debe ser un **número entero** con la cantidad de veces por las que se desea concatenar una cadena por sí misma."
      ]
    },
    {
      "cell_type": "code",
      "metadata": {
        "id": "65XMWKZAtbe_",
        "colab": {
          "base_uri": "https://localhost:8080/",
          "height": 36
        },
        "outputId": "e47f6d42-5536-417b-8048-c8a13730f27b"
      },
      "source": [
        "'Ora' * 10"
      ],
      "execution_count": null,
      "outputs": [
        {
          "output_type": "execute_result",
          "data": {
            "application/vnd.google.colaboratory.intrinsic+json": {
              "type": "string"
            },
            "text/plain": [
              "'OraOraOraOraOraOraOraOraOraOra'"
            ]
          },
          "metadata": {
            "tags": []
          },
          "execution_count": 83
        }
      ]
    },
    {
      "cell_type": "markdown",
      "metadata": {
        "id": "bw-o_TZ33EDh"
      },
      "source": [
        "También existen operadores creados a partir de palabras reservadas, como el operador **`in`** que, en el caso de las cadenas de texto, permite determinar si una subcadena se encuentra dentro de otra:"
      ]
    },
    {
      "cell_type": "code",
      "metadata": {
        "id": "xM2xLHgG32cS",
        "colab": {
          "base_uri": "https://localhost:8080/"
        },
        "outputId": "ac751bec-1050-463d-990b-8518945ae744"
      },
      "source": [
        "'ora' in 'Aspiradora'"
      ],
      "execution_count": null,
      "outputs": [
        {
          "output_type": "execute_result",
          "data": {
            "text/plain": [
              "True"
            ]
          },
          "metadata": {
            "tags": []
          },
          "execution_count": 84
        }
      ]
    },
    {
      "cell_type": "markdown",
      "metadata": {
        "id": "wl2swlMI4kp-"
      },
      "source": [
        "Otro operador sobre cadenas de texto, menos usado en la actualidad, es el operador **`%`** de **interpolación**, que permite realizar un [formato del texto](https://docs.python.org/3/library/stdtypes.html#printf-style-bytes-formatting), inspirado en el lenguaje de programación [C](https://es.wikipedia.org/wiki/C_(lenguaje_de_programación). En la primera cadena se define una sintaxis especial de secuencias para dar formato a el valor recibido como entrada en el segundo valor. Para esto, se usa el mismo carácter **`%`** dentro de la cadena, seguido del tipo de dato esperado. Por ejemplo, si esperamos una cadena de texto usamos la secuencia **`%s`** dentro de nuestra cadena y esta será reemplazada por el valor ingresado. Veamos un ejemplo:"
      ]
    },
    {
      "cell_type": "code",
      "metadata": {
        "id": "SyD_PIPy56Pc",
        "colab": {
          "base_uri": "https://localhost:8080/",
          "height": 36
        },
        "outputId": "53979b5f-9e97-441e-9297-0004457749d2"
      },
      "source": [
        "\"¡Hola %s!\" % \"Mundo\""
      ],
      "execution_count": null,
      "outputs": [
        {
          "output_type": "execute_result",
          "data": {
            "application/vnd.google.colaboratory.intrinsic+json": {
              "type": "string"
            },
            "text/plain": [
              "'¡Hola Mundo!'"
            ]
          },
          "metadata": {
            "tags": []
          },
          "execution_count": 85
        }
      ]
    },
    {
      "cell_type": "markdown",
      "metadata": {
        "id": "9_EKmqsf7e3O"
      },
      "source": [
        "Una de las aplicaciones más útiles de esta idea es la posibilidad de definir un límite de dígitos decimales de un valor decimal que se van a mostrar en la cadena. Esto se consigue con secuencias cómo **`%.2f`**, donde $2$ corresponde a la cantidad de dígitos a mostrar después de la coma tras el redondeo."
      ]
    },
    {
      "cell_type": "code",
      "metadata": {
        "id": "KK4ajaUL7kko",
        "colab": {
          "base_uri": "https://localhost:8080/",
          "height": 36
        },
        "outputId": "67197a36-0e62-497f-ae5b-25c01cce52e5"
      },
      "source": [
        "\"La nota promedio de este curso es de %.2f\" % 99.549678451"
      ],
      "execution_count": null,
      "outputs": [
        {
          "output_type": "execute_result",
          "data": {
            "application/vnd.google.colaboratory.intrinsic+json": {
              "type": "string"
            },
            "text/plain": [
              "'La nota promedio de este curso es de 99.55'"
            ]
          },
          "metadata": {
            "tags": []
          },
          "execution_count": 86
        }
      ]
    },
    {
      "cell_type": "markdown",
      "metadata": {
        "id": "ka99W0nf9sfy"
      },
      "source": [
        "El uso de este operador no es recomendado, pues se prefieren alternativas como la función [**`format`**](https://docs.python.org/3.7/library/string.html#formatstrings) o la definición de **cadenas literales con formato** o __*f-strings*__. Estas cadenas se escriben con el carácter **`f`** como prefijo y permiten indicar valores, variables y demás dentro de campos usados para reemplazar valores, delimitados por llaves curvadas **`{}`**. \n",
        "\n",
        "Por ejemplo, para obtener un nombre y utilizarlo en una oración realizaríamos una operación de entrada de texto con la función **`input`**."
      ]
    },
    {
      "cell_type": "code",
      "metadata": {
        "id": "MVBj_GBaAOyH",
        "colab": {
          "base_uri": "https://localhost:8080/"
        },
        "outputId": "7f0e2542-de15-4dc4-9cbb-23f654b818ea"
      },
      "source": [
        "nombre = input('Ingrese su nombre: ')"
      ],
      "execution_count": null,
      "outputs": [
        {
          "output_type": "stream",
          "text": [
            "Ingrese su nombre: Pedro\n"
          ],
          "name": "stdout"
        }
      ]
    },
    {
      "cell_type": "markdown",
      "metadata": {
        "id": "d-PipCjAATSo"
      },
      "source": [
        "Ahora tenemos varias alternativas para usar este nombre en una frase de bienvenida. Una opción es usar la concatenación de múltiples cadenas."
      ]
    },
    {
      "cell_type": "code",
      "metadata": {
        "id": "umRYOTbJAgrO",
        "colab": {
          "base_uri": "https://localhost:8080/",
          "height": 36
        },
        "outputId": "784328dd-954b-41d0-b0b6-29b598061a75"
      },
      "source": [
        "\"¡Bienvenido \" + nombre + \"!\""
      ],
      "execution_count": null,
      "outputs": [
        {
          "output_type": "execute_result",
          "data": {
            "application/vnd.google.colaboratory.intrinsic+json": {
              "type": "string"
            },
            "text/plain": [
              "'¡Bienvenido Pedro!'"
            ]
          },
          "metadata": {
            "tags": []
          },
          "execution_count": 88
        }
      ]
    },
    {
      "cell_type": "markdown",
      "metadata": {
        "id": "fXf3zRrPAoit"
      },
      "source": [
        "También podemos usar la sintaxis de formato con el operador **`%`**."
      ]
    },
    {
      "cell_type": "code",
      "metadata": {
        "id": "iQhhqC_eAuHg",
        "colab": {
          "base_uri": "https://localhost:8080/",
          "height": 36
        },
        "outputId": "14524762-9d0e-479b-e296-95981b1e1c44"
      },
      "source": [
        "\"¡Bienvenido %s!\" % nombre"
      ],
      "execution_count": null,
      "outputs": [
        {
          "output_type": "execute_result",
          "data": {
            "application/vnd.google.colaboratory.intrinsic+json": {
              "type": "string"
            },
            "text/plain": [
              "'¡Bienvenido Pedro!'"
            ]
          },
          "metadata": {
            "tags": []
          },
          "execution_count": 89
        }
      ]
    },
    {
      "cell_type": "markdown",
      "metadata": {
        "id": "4iMStFVIAtZt"
      },
      "source": [
        "Las cadenas *f* nacen como una alternativa más expresiva y comprensible de realizar operaciones de este tipo. El equivalente en este tipo de cadenas de la instrucción anterior es el siguiente:"
      ]
    },
    {
      "cell_type": "code",
      "metadata": {
        "id": "bWl-GRnaBAkP",
        "colab": {
          "base_uri": "https://localhost:8080/",
          "height": 36
        },
        "outputId": "4958f7ac-55b9-421e-f80f-a682053b6362"
      },
      "source": [
        "f'¡Bienvenido {nombre}!'"
      ],
      "execution_count": null,
      "outputs": [
        {
          "output_type": "execute_result",
          "data": {
            "application/vnd.google.colaboratory.intrinsic+json": {
              "type": "string"
            },
            "text/plain": [
              "'¡Bienvenido Pedro!'"
            ]
          },
          "metadata": {
            "tags": []
          },
          "execution_count": 90
        }
      ]
    },
    {
      "cell_type": "markdown",
      "metadata": {
        "id": "QGwF-VMPDTdg"
      },
      "source": [
        "Esta especificación ofrece gran flexibilidad en el manejo de cadenas de texto, heredada de lo construido en alternativas previas. En este tipo de cadenas podemos de igual forma realizar el formateo de la entrada, usando el separador punto y coma **`:`**. Por ejemplo, una utilidad importante es la de rellenar con espacios en blanco hasta obtener una cadena de un número determinado. \n",
        "\n",
        "Para hacer esto, usamos el separador **`:`** e indicamos el número de caracteres que tendrá la cadena:"
      ]
    },
    {
      "cell_type": "code",
      "metadata": {
        "id": "-UafE7OfNu-C",
        "colab": {
          "base_uri": "https://localhost:8080/",
          "height": 36
        },
        "outputId": "5baa6a80-2691-4b76-edc4-67b3fe0d6bc0"
      },
      "source": [
        "f'Nombre de usuario: {nombre:16}-> id: {1000:10}'"
      ],
      "execution_count": null,
      "outputs": [
        {
          "output_type": "execute_result",
          "data": {
            "application/vnd.google.colaboratory.intrinsic+json": {
              "type": "string"
            },
            "text/plain": [
              "'Nombre de usuario: Pedro           -> id:       1000'"
            ]
          },
          "metadata": {
            "tags": []
          },
          "execution_count": 91
        }
      ]
    },
    {
      "cell_type": "markdown",
      "metadata": {
        "id": "BvxePyAbOnaN"
      },
      "source": [
        "Da igual forma podemos alinear el contenido con el uso de caracteres adicionales. Por ejemplo, si usamos **`^`** antes de indicar el número de caracteres la cadena original quedará centrada, con **`<`** alineada hacia la izquierda y con **`>`** alineada hacia la derecha."
      ]
    },
    {
      "cell_type": "code",
      "metadata": {
        "id": "0BJBI3-aNZPU",
        "colab": {
          "base_uri": "https://localhost:8080/",
          "height": 36
        },
        "outputId": "56cd5a81-728f-4351-9cb0-6f68d84280aa"
      },
      "source": [
        "f'¡Bienvenido {nombre:^24}!'"
      ],
      "execution_count": null,
      "outputs": [
        {
          "output_type": "execute_result",
          "data": {
            "application/vnd.google.colaboratory.intrinsic+json": {
              "type": "string"
            },
            "text/plain": [
              "'¡Bienvenido          Pedro          !'"
            ]
          },
          "metadata": {
            "tags": []
          },
          "execution_count": 92
        }
      ]
    },
    {
      "cell_type": "code",
      "metadata": {
        "id": "kAfZNsQxNofl",
        "colab": {
          "base_uri": "https://localhost:8080/",
          "height": 36
        },
        "outputId": "a5f3bead-b4d5-45fb-bbad-ef2c58890266"
      },
      "source": [
        "f'¡Bienvenido {nombre:>24}!'"
      ],
      "execution_count": null,
      "outputs": [
        {
          "output_type": "execute_result",
          "data": {
            "application/vnd.google.colaboratory.intrinsic+json": {
              "type": "string"
            },
            "text/plain": [
              "'¡Bienvenido                    Pedro!'"
            ]
          },
          "metadata": {
            "tags": []
          },
          "execution_count": 93
        }
      ]
    },
    {
      "cell_type": "code",
      "metadata": {
        "id": "wQLxY6NyNsmQ",
        "colab": {
          "base_uri": "https://localhost:8080/",
          "height": 36
        },
        "outputId": "fd2b3f29-0702-452e-8dd0-2c06101035d8"
      },
      "source": [
        "f'¡Bienvenido {nombre:<24}!'"
      ],
      "execution_count": null,
      "outputs": [
        {
          "output_type": "execute_result",
          "data": {
            "application/vnd.google.colaboratory.intrinsic+json": {
              "type": "string"
            },
            "text/plain": [
              "'¡Bienvenido Pedro                   !'"
            ]
          },
          "metadata": {
            "tags": []
          },
          "execution_count": 94
        }
      ]
    },
    {
      "cell_type": "markdown",
      "metadata": {
        "id": "xN_bTuaLTNl0"
      },
      "source": [
        "Incluso podemos definir otro carácter con el cual rellenar el texto vacío, indicándolo justo antes del modificador de alineación:"
      ]
    },
    {
      "cell_type": "code",
      "metadata": {
        "id": "xf7tmMsKTYqv",
        "colab": {
          "base_uri": "https://localhost:8080/",
          "height": 36
        },
        "outputId": "5d2ea64b-221f-40b9-d659-d86fdb2e86bd"
      },
      "source": [
        "f'Bienvenido {nombre:!<24}'"
      ],
      "execution_count": null,
      "outputs": [
        {
          "output_type": "execute_result",
          "data": {
            "application/vnd.google.colaboratory.intrinsic+json": {
              "type": "string"
            },
            "text/plain": [
              "'Bienvenido Pedro!!!!!!!!!!!!!!!!!!!'"
            ]
          },
          "metadata": {
            "tags": []
          },
          "execution_count": 95
        }
      ]
    },
    {
      "cell_type": "markdown",
      "metadata": {
        "id": "dfhbPK7vSus1"
      },
      "source": [
        "Esto también se puede combinar con la cantidad de puntos decimales, de manera similar a la sintaxis usada con el operador **`%`**. El siguiente ejemplo crea una cadena de por lo menos $32$ caracteres y $2$ puntos decimales."
      ]
    },
    {
      "cell_type": "code",
      "metadata": {
        "id": "INmLzMMwS41t",
        "colab": {
          "base_uri": "https://localhost:8080/",
          "height": 36
        },
        "outputId": "3b268d49-e2fd-48ec-c46c-addb73e1800e"
      },
      "source": [
        "num = 11198741.12399789923254\n",
        "f\"[Valor: {num:32.2f}]\""
      ],
      "execution_count": null,
      "outputs": [
        {
          "output_type": "execute_result",
          "data": {
            "application/vnd.google.colaboratory.intrinsic+json": {
              "type": "string"
            },
            "text/plain": [
              "'[Valor:                      11198741.12]'"
            ]
          },
          "metadata": {
            "tags": []
          },
          "execution_count": 96
        }
      ]
    },
    {
      "cell_type": "markdown",
      "metadata": {
        "id": "VyW1MPSqUEAm"
      },
      "source": [
        "#### **4.2.1. Métodos comunes en cadenas de texto**\n",
        "---\n",
        "Las cadenas de texto y los números son tipos de dato que, al igual que muchos otros, tienen la opción de llamar **métodos** sobre ellos, una especie de función que se realiza con sus valores y genera un resultado. \n",
        "\n",
        "\n",
        "> **Nota:** los conceptos de objetos y métodos se retomarán en la **Unidad 4**.\n",
        "\n",
        "\n",
        "Para llamar un método, es suficiente con utilizar el separador punto **`.`** e indicar el nombre del método. Por ejemplo, un método importante en las cadenas de texto es el anteriormente mencionado **`format`**, que apoya por debajo la ejecución de los *f-strings*. Esta se realiza de la siguiente forma:"
      ]
    },
    {
      "cell_type": "code",
      "metadata": {
        "id": "xdSQ-lY7Ztaw",
        "colab": {
          "base_uri": "https://localhost:8080/",
          "height": 36
        },
        "outputId": "f485c454-1686-4d17-f129-beb759e355e4"
      },
      "source": [
        "cadena = \"Hola {}\"\n",
        "\n",
        "cadena.format(nombre)"
      ],
      "execution_count": null,
      "outputs": [
        {
          "output_type": "execute_result",
          "data": {
            "application/vnd.google.colaboratory.intrinsic+json": {
              "type": "string"
            },
            "text/plain": [
              "'Hola Pedro'"
            ]
          },
          "metadata": {
            "tags": []
          },
          "execution_count": 98
        }
      ]
    },
    {
      "cell_type": "markdown",
      "metadata": {
        "id": "Et9qx_c1aWms"
      },
      "source": [
        "En ella se indican las llaves de separación y se pasa el valor dentro de los paréntesis del método. En las cadenas de texto hay una [gran variedad de métodos] para realizar todo tipo de operaciones comunes. Algunas de ellas son las siguientes:\n",
        "\n",
        "\n",
        "* Podemos convertir las letras de una cadena a mayúsculas o minúsculas con los métodos **`.upper()`** y **`.lower()`**, respectivamente."
      ]
    },
    {
      "cell_type": "code",
      "metadata": {
        "id": "e3oML8dma5JS"
      },
      "source": [
        "cadena = \"Python\""
      ],
      "execution_count": null,
      "outputs": []
    },
    {
      "cell_type": "code",
      "metadata": {
        "id": "2ef_vZwYa8GN",
        "colab": {
          "base_uri": "https://localhost:8080/",
          "height": 36
        },
        "outputId": "00a77f94-1fe2-4fbb-a1fc-7ce4b9c2af13"
      },
      "source": [
        "cadena.upper()"
      ],
      "execution_count": null,
      "outputs": [
        {
          "output_type": "execute_result",
          "data": {
            "application/vnd.google.colaboratory.intrinsic+json": {
              "type": "string"
            },
            "text/plain": [
              "'PYTHON'"
            ]
          },
          "metadata": {
            "tags": []
          },
          "execution_count": 101
        }
      ]
    },
    {
      "cell_type": "markdown",
      "metadata": {
        "id": "6NFPmGtab6rS"
      },
      "source": [
        "También podemos llamarlos directamente desde valores literales."
      ]
    },
    {
      "cell_type": "code",
      "metadata": {
        "id": "LZo7Vw68a9_L",
        "colab": {
          "base_uri": "https://localhost:8080/",
          "height": 36
        },
        "outputId": "d7bb59fa-26a3-4ca0-dfd7-a3900c3e5acd"
      },
      "source": [
        "\"Python\".lower()"
      ],
      "execution_count": null,
      "outputs": [
        {
          "output_type": "execute_result",
          "data": {
            "application/vnd.google.colaboratory.intrinsic+json": {
              "type": "string"
            },
            "text/plain": [
              "'python'"
            ]
          },
          "metadata": {
            "tags": []
          },
          "execution_count": 102
        }
      ]
    },
    {
      "cell_type": "markdown",
      "metadata": {
        "id": "V6LspWplbkCQ"
      },
      "source": [
        "\n",
        "* Podemos obtener un conteo de apariciones de una subcadena en otra con el método **`.count()`**."
      ]
    },
    {
      "cell_type": "code",
      "metadata": {
        "id": "uX43ourNbvTY",
        "colab": {
          "base_uri": "https://localhost:8080/"
        },
        "outputId": "19fc2ae5-598f-4409-e497-c379b577ac99"
      },
      "source": [
        "\"Python programming language\".count('g')"
      ],
      "execution_count": null,
      "outputs": [
        {
          "output_type": "execute_result",
          "data": {
            "text/plain": [
              "4"
            ]
          },
          "metadata": {
            "tags": []
          },
          "execution_count": 103
        }
      ]
    },
    {
      "cell_type": "markdown",
      "metadata": {
        "id": "NSx5s4t5cIwc"
      },
      "source": [
        "* Podemos reemplazar todas las apariciones de la cadena $a$ con la cadena $b$ con el método **`replace(a, b)`**."
      ]
    },
    {
      "cell_type": "code",
      "metadata": {
        "id": "y1K-oVcXcp-0",
        "colab": {
          "base_uri": "https://localhost:8080/",
          "height": 36
        },
        "outputId": "dc0dcaad-6178-4e04-9b43-f98e5ee1d805"
      },
      "source": [
        "\"Hola a todos\".replace('a', 'o')"
      ],
      "execution_count": null,
      "outputs": [
        {
          "output_type": "execute_result",
          "data": {
            "application/vnd.google.colaboratory.intrinsic+json": {
              "type": "string"
            },
            "text/plain": [
              "'Holo o todos'"
            ]
          },
          "metadata": {
            "tags": []
          },
          "execution_count": 105
        }
      ]
    },
    {
      "cell_type": "markdown",
      "metadata": {
        "id": "exuwYrthc4Yx"
      },
      "source": [
        "* Podemos obtener una cadena sin espacios o saltos de línea al principio y al final con el método **`lstrip()`**. Note que los espacios en la mitad de la cadena no son eliminados."
      ]
    },
    {
      "cell_type": "code",
      "metadata": {
        "id": "EylmPH_jdAAE",
        "colab": {
          "base_uri": "https://localhost:8080/",
          "height": 36
        },
        "outputId": "0becfca4-4f27-4bf2-ec31-296b82409378"
      },
      "source": [
        "\"            ¡Bienvenido    !  \\n\\n \".strip()"
      ],
      "execution_count": null,
      "outputs": [
        {
          "output_type": "execute_result",
          "data": {
            "application/vnd.google.colaboratory.intrinsic+json": {
              "type": "string"
            },
            "text/plain": [
              "'¡Bienvenido    !'"
            ]
          },
          "metadata": {
            "tags": []
          },
          "execution_count": 104
        }
      ]
    },
    {
      "cell_type": "markdown",
      "metadata": {
        "id": "zI32h_HVdP8y"
      },
      "source": [
        "## **5. Expresiones**\n",
        "---\n",
        "\n",
        "En matemáticas, es fácil encontrar operaciones compuestas como la siguiente:\n",
        "\n",
        "$$((50 + 7^2) -\\frac{200}{12.5}) \\times 0.5 $$\n",
        "\n",
        "Hasta el momento somos capaces de realizar las operaciones intermedias de suma, resta, multiplicación, división y potencia con _Python_. Por ejemplo, podríamos hacerlo por pasos.\n",
        "\n",
        "Primero, obtenemos la potencia $7^2$."
      ]
    },
    {
      "cell_type": "code",
      "metadata": {
        "id": "vr9JKqZPeXcG",
        "colab": {
          "base_uri": "https://localhost:8080/"
        },
        "outputId": "8aa3a57c-e4ce-413b-c091-d6cb501bc542"
      },
      "source": [
        "n = 7 ** 2\n",
        "\n",
        "n"
      ],
      "execution_count": null,
      "outputs": [
        {
          "output_type": "execute_result",
          "data": {
            "text/plain": [
              "49"
            ]
          },
          "metadata": {
            "tags": []
          },
          "execution_count": 106
        }
      ]
    },
    {
      "cell_type": "markdown",
      "metadata": {
        "id": "ksys9SbnebWa"
      },
      "source": [
        "Después le sumamos $50$. Podemos reutilizar la variable **`n`**, que pasaría a tener el valor $50 + 7^2$."
      ]
    },
    {
      "cell_type": "code",
      "metadata": {
        "id": "8HKcz_1xejE4",
        "colab": {
          "base_uri": "https://localhost:8080/"
        },
        "outputId": "133b1b2f-8271-4551-c230-ef52980b5642"
      },
      "source": [
        "n = n + 50\n",
        "\n",
        "n"
      ],
      "execution_count": null,
      "outputs": [
        {
          "output_type": "execute_result",
          "data": {
            "text/plain": [
              "99"
            ]
          },
          "metadata": {
            "tags": []
          },
          "execution_count": 107
        }
      ]
    },
    {
      "cell_type": "markdown",
      "metadata": {
        "id": "LRM-tMLkepmQ"
      },
      "source": [
        "En otra variable, obtenemos la división $200 \\div 12.5$:"
      ]
    },
    {
      "cell_type": "code",
      "metadata": {
        "id": "Ceq45Zxpet6_",
        "colab": {
          "base_uri": "https://localhost:8080/"
        },
        "outputId": "4b3a9ed4-3865-4903-f937-266bc88925e9"
      },
      "source": [
        "m = 200 / 12.5\n",
        "\n",
        "m"
      ],
      "execution_count": null,
      "outputs": [
        {
          "output_type": "execute_result",
          "data": {
            "text/plain": [
              "16.0"
            ]
          },
          "metadata": {
            "tags": []
          },
          "execution_count": 108
        }
      ]
    },
    {
      "cell_type": "markdown",
      "metadata": {
        "id": "wMRF4GOXexW8"
      },
      "source": [
        "Ahora restamos las dos variables, para obtener $(50 + 7^2) -\\frac{200}{12.5}$."
      ]
    },
    {
      "cell_type": "code",
      "metadata": {
        "id": "My-Y81p0fAGn",
        "colab": {
          "base_uri": "https://localhost:8080/"
        },
        "outputId": "ca0f5c2f-6f99-4cd2-d20e-2d324fefd9be"
      },
      "source": [
        "p = n - m\n",
        "p"
      ],
      "execution_count": null,
      "outputs": [
        {
          "output_type": "execute_result",
          "data": {
            "text/plain": [
              "83.0"
            ]
          },
          "metadata": {
            "tags": []
          },
          "execution_count": 109
        }
      ]
    },
    {
      "cell_type": "markdown",
      "metadata": {
        "id": "e97Xk6oYqVdp"
      },
      "source": [
        "Finalmente, podemos tomar ese resultado y multiplicarlo por $0.5$ para obtener el resultado final."
      ]
    },
    {
      "cell_type": "code",
      "metadata": {
        "id": "hOfRbZttqdyF",
        "colab": {
          "base_uri": "https://localhost:8080/"
        },
        "outputId": "f488a778-e6bd-4f1b-9d57-57564af64437"
      },
      "source": [
        "p = p * 0.5\n",
        "p"
      ],
      "execution_count": null,
      "outputs": [
        {
          "output_type": "execute_result",
          "data": {
            "text/plain": [
              "41.5"
            ]
          },
          "metadata": {
            "tags": []
          },
          "execution_count": 110
        }
      ]
    },
    {
      "cell_type": "markdown",
      "metadata": {
        "id": "h49BvKxIrIzn"
      },
      "source": [
        "Lo que hicimos en las celdas anteriores es un proceso bastante largo, que con un par de detalles se puede complicar. Es lógico pensar que un lenguaje como _Python_ permita operaciones de este estilo. \n",
        "\n",
        "Las operaciones con operadores presentadas hasta ahora tienen en común que al ser evaluadas dan como resultado un valor. Esta propiedad en común nos permite hablar de **expresiones**, unidades gramaticales compuestas por cualquier combinación de valores, variables y operadores, que den como resultado un valor válido. Una expresión siempre es evaluada con la idea de obtener un valor, por lo que son reemplazables entre sí. \n",
        "\n",
        "Por ejemplo, la función **`print`** recibe una expresión, por lo que cualquiera de estos ejemplos es válido y equivalente para el valor recibido por la función:\n",
        "\n"
      ]
    },
    {
      "cell_type": "code",
      "metadata": {
        "id": "IW1LC0SMvxb4",
        "colab": {
          "base_uri": "https://localhost:8080/"
        },
        "outputId": "e87e79ed-408f-45d0-e831-3a782eccc00b"
      },
      "source": [
        "print(500)"
      ],
      "execution_count": null,
      "outputs": [
        {
          "output_type": "stream",
          "text": [
            "500\n"
          ],
          "name": "stdout"
        }
      ]
    },
    {
      "cell_type": "code",
      "metadata": {
        "id": "pBCDdwkovy9w",
        "colab": {
          "base_uri": "https://localhost:8080/"
        },
        "outputId": "118acd57-1ebc-432d-e71b-7e3c7719baf3"
      },
      "source": [
        "num = 500\n",
        "\n",
        "print(num)"
      ],
      "execution_count": null,
      "outputs": [
        {
          "output_type": "stream",
          "text": [
            "500\n"
          ],
          "name": "stdout"
        }
      ]
    },
    {
      "cell_type": "code",
      "metadata": {
        "id": "i4lVnwzPv1YD",
        "colab": {
          "base_uri": "https://localhost:8080/"
        },
        "outputId": "7e4099a7-4203-4a6d-b46b-85aa38bd4f39"
      },
      "source": [
        "a = 50\n",
        "b = 10\n",
        "\n",
        "print(a * b)"
      ],
      "execution_count": null,
      "outputs": [
        {
          "output_type": "stream",
          "text": [
            "500\n"
          ],
          "name": "stdout"
        }
      ]
    },
    {
      "cell_type": "markdown",
      "metadata": {
        "id": "mRPx3fBhv7Zi"
      },
      "source": [
        "En la sección anterior planteamos una aplicación de la concatenación al unir tres cadenas:"
      ]
    },
    {
      "cell_type": "code",
      "metadata": {
        "id": "v-1l5ccCwC30",
        "colab": {
          "base_uri": "https://localhost:8080/",
          "height": 54
        },
        "outputId": "e367d0a9-7582-48d2-ce97-3a1b114b71f3"
      },
      "source": [
        "nombre = input(\"Ingrese su nombre: \")\n",
        "\"¡Bienvenido \" + nombre + \"!\""
      ],
      "execution_count": null,
      "outputs": [
        {
          "output_type": "stream",
          "text": [
            "Ingrese su nombre: Camila\n"
          ],
          "name": "stdout"
        },
        {
          "output_type": "execute_result",
          "data": {
            "application/vnd.google.colaboratory.intrinsic+json": {
              "type": "string"
            },
            "text/plain": [
              "'¡Bienvenido Camila!'"
            ]
          },
          "metadata": {
            "tags": []
          },
          "execution_count": 114
        }
      ]
    },
    {
      "cell_type": "markdown",
      "metadata": {
        "id": "4ktR0H7C0_DD"
      },
      "source": [
        "Esto es posible también con operadores numéricos:"
      ]
    },
    {
      "cell_type": "code",
      "metadata": {
        "id": "e3-JJ9Ce1CBM",
        "colab": {
          "base_uri": "https://localhost:8080/"
        },
        "outputId": "1641811e-5deb-48df-f701-81e785617723"
      },
      "source": [
        "5 + 4 - 2 + 9"
      ],
      "execution_count": null,
      "outputs": [
        {
          "output_type": "execute_result",
          "data": {
            "text/plain": [
              "16"
            ]
          },
          "metadata": {
            "tags": []
          },
          "execution_count": 115
        }
      ]
    },
    {
      "cell_type": "markdown",
      "metadata": {
        "id": "O-7S-y-0wUTg"
      },
      "source": [
        " Parece intuitivo, pero hay que tener en cuenta que los operadores están definidos en su mayoría como operaciones entre dos valores. Veamos el siguiente ejemplo:\n"
      ]
    },
    {
      "cell_type": "markdown",
      "metadata": {
        "id": "H8vbtkF9xS1S"
      },
      "source": [
        "> **Pregunta**: ¿cuál cree que será el resultado de esta expresión? ¿es válido realizar esta sentencia? Intente realizar la operación en su mente o en una hoja de papel antes de ejecutar la celda o revisar la respuesta.\n",
        "\n",
        "$$7 - 6 + 5 \\div 4 \\times 3^2$$\n",
        "```python\n",
        "result = 7 - 6 + 5 / 4 * 3 ** 2\n",
        "print(result)\n",
        "```\n",
        "\n",
        "<details>\n",
        "  <summary> <b>Respuesta</b> </summary>\n",
        "\n",
        "  > La expresión **SÍ** es válida y da como resultado el valor $15$. En este caso la operación toma los siguientes pasos:\n",
        "\n",
        "1. $$7 - 6 + 5 \\div 4 \\times 3^2$$\n",
        "2. $$7 - 6 + 5 \\div 4 \\times 9$$\n",
        "3. $$7 - 6 + 1.25 \\times 9$$\n",
        "4. $$7 - 6 + 11.25$$\n",
        "5. $$1 + 11.25$$\n",
        "5. $$12.25$$\n",
        "\n",
        "</details>"
      ]
    },
    {
      "cell_type": "code",
      "metadata": {
        "id": "rajFMiSUw92T",
        "colab": {
          "base_uri": "https://localhost:8080/"
        },
        "outputId": "a8247c6d-6879-48f9-bc96-2737cfe2c317"
      },
      "source": [
        "7 - 6 + 5 / 4 * 3 ** 2"
      ],
      "execution_count": null,
      "outputs": [
        {
          "output_type": "execute_result",
          "data": {
            "text/plain": [
              "12.25"
            ]
          },
          "metadata": {
            "tags": []
          },
          "execution_count": 116
        }
      ]
    },
    {
      "cell_type": "markdown",
      "metadata": {
        "id": "PYB7TN7hzmXq"
      },
      "source": [
        "La operación siguió algunas reglas específicas. Primero realizó la exponenciación, luego la división, la multiplicación, la resta y finalmente la suma.\n",
        "\n",
        "En el ejercicio anterior a este utilizamos una lógica adquirida de las matemáticas y del uso natural y frecuente de estas operaciones para realizar el proceso en el orden correcto con el apoyo de variables.\n",
        "\n",
        "\n",
        " _Python_ realiza esta tarea con criterios de **precedencia de operadores**. Esto permite determinar qué operador se debe resolver antes, de manera que toda expresión siempre se realice de la misma manera. \n",
        "\n",
        "En este caso la exponenciación tiene una prioridad o precedencia mayor al resto de operadores, por lo que se resuelve antes de continuar con los demás valores. \n",
        "Tal como en el ejercicio planteado, podemos utilizar paréntesis **`()`** para saltarnos estas reglas y especificar operaciones con una precedencia mayor.\n",
        "\n",
        "Por ejemplo, si realizáramos esta operación sin indicar paréntesis:\n",
        "\n",
        "$$((50 + 7^2) -\\frac{200}{12.5}) \\times 0.5$$\n",
        "\n"
      ]
    },
    {
      "cell_type": "code",
      "metadata": {
        "id": "xwpnMrWp3Glo",
        "colab": {
          "base_uri": "https://localhost:8080/"
        },
        "outputId": "3dfafb29-fcc3-4205-fb78-9771f41228a9"
      },
      "source": [
        "50 + 7**2 - 200/12.5 * 0.5"
      ],
      "execution_count": null,
      "outputs": [
        {
          "output_type": "execute_result",
          "data": {
            "text/plain": [
              "91.0"
            ]
          },
          "metadata": {
            "tags": []
          },
          "execution_count": 117
        }
      ]
    },
    {
      "cell_type": "markdown",
      "metadata": {
        "id": "E5hGQAmT3JyC"
      },
      "source": [
        "Luego, si utilizamos los paréntesis para realizar esta operación:"
      ]
    },
    {
      "cell_type": "code",
      "metadata": {
        "id": "isLuVzHw2XZG",
        "colab": {
          "base_uri": "https://localhost:8080/"
        },
        "outputId": "e26015f0-0e1b-4bf0-f739-f74f2b57f1ff"
      },
      "source": [
        "((50 + 7**2) - 200/12.5) * 0.5"
      ],
      "execution_count": null,
      "outputs": [
        {
          "output_type": "execute_result",
          "data": {
            "text/plain": [
              "41.5"
            ]
          },
          "metadata": {
            "tags": []
          },
          "execution_count": 118
        }
      ]
    },
    {
      "cell_type": "markdown",
      "metadata": {
        "id": "z7soDsac-fdf"
      },
      "source": [
        "A continuación, se presenta una tabla de precedencia con los operadores vistos hasta el momento en el curso. Conforme avance en el contenido se irá introduciendo nuevos operadores y expresiones que se consideran al realizar el proceso de evaluación de una expresión.\n",
        "\n",
        "\n",
        "| Operador | Asociatividad | Descripción |\n",
        "| --- | --- | --- |\n",
        "| **`(expresión)`** |  Izquierda a derecha | Expresión en paréntesis. |\n",
        "|  __`**`__  | Derecha a izquierda | Exponenciación. |\n",
        "| **`-x`**, **`+x`** | Izquierda a derecha | Positivo y negativo. |\n",
        "| **`*`**, **`/`**, **`%`** , **`//`**|Izquierda a derecha |  Multiplicación, división, módulo y división piso. |\n",
        "| **`+`**, **`-`**| Izquierda a derecha | Adición y substracción. |\n",
        "| **`=`**| Derecha a izquierda | Asignación. |\n",
        "\n",
        "\n",
        "Además del orden de precedencia, se considera el criterio de asociatividad para decidir en qué orden se evalúan operadores con el mismo peso. Por ejemplo, con la división y multiplicación, como están en el mismo nivel de precedencia, se evalúa de izquierda a derecha:"
      ]
    },
    {
      "cell_type": "code",
      "metadata": {
        "id": "eNogYRrWCDLN",
        "colab": {
          "base_uri": "https://localhost:8080/"
        },
        "outputId": "f7950951-5735-455f-add3-76de57d9e56f"
      },
      "source": [
        "8 / 4 * 5 / 4 * 2"
      ],
      "execution_count": null,
      "outputs": [
        {
          "output_type": "execute_result",
          "data": {
            "text/plain": [
              "5.0"
            ]
          },
          "metadata": {
            "tags": []
          },
          "execution_count": 119
        }
      ]
    },
    {
      "cell_type": "markdown",
      "metadata": {
        "id": "3chcf3X6-BgP"
      },
      "source": [
        "La anterior expresión es equivalente a esta expresión:\n"
      ]
    },
    {
      "cell_type": "code",
      "metadata": {
        "id": "zBamAwGb-CN8"
      },
      "source": [
        "(((8 / 4) * 5) / 4) * 2"
      ],
      "execution_count": null,
      "outputs": []
    },
    {
      "cell_type": "markdown",
      "metadata": {
        "id": "yQ-kYdA5-Crd"
      },
      "source": [
        "Si quisiéramos realizar las operaciones de derecha a izquierda, deberíamos indicarlo explícitamente con paréntesis:\n"
      ]
    },
    {
      "cell_type": "code",
      "metadata": {
        "id": "3MtxfJjT-DOs"
      },
      "source": [
        "(8 / (4 * (5 / (4 * 2))))"
      ],
      "execution_count": null,
      "outputs": []
    },
    {
      "cell_type": "markdown",
      "metadata": {
        "id": "92s-DsevEZH0"
      },
      "source": [
        "En cambio, la potenciación se evalúa de derecha a izquierda, por lo que una expresión como $3^{2^3}$ produce como resultado $3^8$ (desde la izquierda, evaluando primero $2^3$) y no $9^3$ (evaluando primero $3^2$).\n",
        "\n"
      ]
    },
    {
      "cell_type": "code",
      "metadata": {
        "id": "HBuKRrwwEqQy",
        "colab": {
          "base_uri": "https://localhost:8080/"
        },
        "outputId": "e8f244ed-1bb9-4905-b4f8-ed1926ee2ace"
      },
      "source": [
        "3 ** 2 ** 3 "
      ],
      "execution_count": null,
      "outputs": [
        {
          "output_type": "execute_result",
          "data": {
            "text/plain": [
              "6561"
            ]
          },
          "metadata": {
            "tags": []
          },
          "execution_count": 120
        }
      ]
    },
    {
      "cell_type": "code",
      "metadata": {
        "id": "MkoWxS4pEyE0",
        "colab": {
          "base_uri": "https://localhost:8080/"
        },
        "outputId": "fd241ec1-a255-450e-d03e-95101872d196"
      },
      "source": [
        "3 ** (2 ** 3)"
      ],
      "execution_count": null,
      "outputs": [
        {
          "output_type": "execute_result",
          "data": {
            "text/plain": [
              "6561"
            ]
          },
          "metadata": {
            "tags": []
          },
          "execution_count": 121
        }
      ]
    },
    {
      "cell_type": "code",
      "metadata": {
        "id": "zGbfUuw5Eztw",
        "colab": {
          "base_uri": "https://localhost:8080/"
        },
        "outputId": "56f2dbce-4f52-4965-9a4c-5df331992751"
      },
      "source": [
        "(3 ** 2) ** 3 "
      ],
      "execution_count": null,
      "outputs": [
        {
          "output_type": "execute_result",
          "data": {
            "text/plain": [
              "729"
            ]
          },
          "metadata": {
            "tags": []
          },
          "execution_count": 122
        }
      ]
    },
    {
      "cell_type": "markdown",
      "metadata": {
        "id": "ZDMC5dz9FWou"
      },
      "source": [
        "De igual forma, la asignación se resuelve de derecha a izquierda, con la posibilidad de realizar múltiples asignaciones, tal como se mencionó en secciones anteriores."
      ]
    },
    {
      "cell_type": "code",
      "metadata": {
        "id": "mmVjGHvVFjLT",
        "colab": {
          "base_uri": "https://localhost:8080/"
        },
        "outputId": "b77a9bd6-a1b1-42d5-a2f4-cbd26a73d806"
      },
      "source": [
        "a = 10\n",
        "b = 15\n",
        "c = 20\n",
        " \n",
        "c = b = a\n",
        "\n",
        "print(a)\n",
        "print(b)\n",
        "print(c)"
      ],
      "execution_count": null,
      "outputs": [
        {
          "output_type": "stream",
          "text": [
            "10\n",
            "10\n",
            "10\n"
          ],
          "name": "stdout"
        }
      ]
    },
    {
      "cell_type": "markdown",
      "metadata": {
        "id": "8Vxq50e6PN-c"
      },
      "source": [
        "## **6. Comentarios y ayuda**\n",
        "---\n",
        "Hemos concluido el tema central de esta unidad, descubriendo conceptos como valor, tipo de dato, variable, operador y expresión. A partir de ahora, todo el tema es acumulativo, y se utilizaran estas ideas de forma natural para la presentación de conceptos más avanzados, por lo que le recomendamos encarecidamente que practique y se apropie de las habilidades adquiridas.\n",
        "\n",
        "En esta sección final, vamos a presentar algunas utilidades de ayuda que permiten al programador facilitar la escritura de código en _Python_. \n",
        "\n",
        "\n"
      ]
    },
    {
      "cell_type": "markdown",
      "metadata": {
        "id": "kdgXhsEeTvHL"
      },
      "source": [
        "### **6.1. Comentarios**\n",
        "---\n",
        "\n",
        "Conforme se aprende a construir código más complejo y detallado se complica la capacidad de comprender el propósito de las distintas líneas y fragmentos de un código. Para esto se plantea el concepto de **comentario**, una anotación de texto ignorada por el intérprete y que nos permite añadir información importante en distintas partes del código.\n",
        "\n",
        "En _Python_ los comentarios son escritos con el carácter **`#`**. Cuando aparece este carácter, el resto de la línea es ignorada y se pasa a ejecutar la siguiente. Veamos un ejemplo:\n"
      ]
    },
    {
      "cell_type": "code",
      "metadata": {
        "id": "Am43_zYCaOEl",
        "colab": {
          "base_uri": "https://localhost:8080/"
        },
        "outputId": "1b033720-d0bd-41ea-89d5-b881d7fbc000"
      },
      "source": [
        "# Este texto es ignorado por el intérprete.\n",
        "\n",
        "# No importa lo que se escriba después del símbolo \n",
        "# Todo es ignorado (/.-+?\\...), pero solo en la misma línea.\n",
        "\n",
        "print(\"¡Bienvenido al módulo de Introducción a la programación con Python!\")\n",
        "print(\"Este fragmento no es ignorado.\") # Este fragmento está en la misma línea y SÍ es ignorado."
      ],
      "execution_count": null,
      "outputs": [
        {
          "output_type": "stream",
          "text": [
            "¡Bienvenido al módulo de Introducción a la programación con Python!\n",
            "Este fragmento no es ignorado.\n"
          ],
          "name": "stdout"
        }
      ]
    },
    {
      "cell_type": "markdown",
      "metadata": {
        "id": "MsHsBmULaXK7"
      },
      "source": [
        "De esta manera podemos estructurar nuestro código para hacerlo más comprensible:"
      ]
    },
    {
      "cell_type": "code",
      "metadata": {
        "id": "Ew-K43jtVFGB",
        "colab": {
          "base_uri": "https://localhost:8080/"
        },
        "outputId": "0324e462-0a49-48a3-e515-c75af51bf2d0"
      },
      "source": [
        "# PROGRAMA 1 - Multiplicación\n",
        "# Declaramos una variable con la cantidad inicial.\n",
        "cantidad = 100\n",
        "\n",
        "cantidad *= 0.5  # Multiplicamos el valor por 0.5 para obtener la mitad.\n",
        "\n",
        "# Imprimimos en pantalla el valor resultante:\n",
        "\n",
        "# print(cantidad)  # Podemos descomentar esta línea para imprimir con la función 'print'.\n",
        "cantidad"
      ],
      "execution_count": null,
      "outputs": [
        {
          "output_type": "execute_result",
          "data": {
            "text/plain": [
              "50.0"
            ]
          },
          "metadata": {
            "tags": []
          },
          "execution_count": 125
        }
      ]
    },
    {
      "cell_type": "markdown",
      "metadata": {
        "id": "hZ8nVeHKYqEa"
      },
      "source": [
        "Estos comentarios funcionan línea por línea, y no existe en _Python_ el concepto de comentario multilínea. Sin embargo, podemos usar cadenas de texto multilínea para \"simular\" este tipo de comentario."
      ]
    },
    {
      "cell_type": "code",
      "metadata": {
        "id": "ODw-Ac1cY7XC"
      },
      "source": [
        "'''\n",
        "Este texto está escrito en una cadena\n",
        "pero al ubicarlo antes del programa no\n",
        "afecta la ejecución del código y nos permite\n",
        "usarlo como un comentario de múltiples\n",
        "líneas.\n",
        "'''\n",
        "\n",
        "lenguaje = 'Python 3'\n",
        "print(f'Este programa fue escrito en el lenguaje {lenguaje:^16}')\n",
        "\n",
        "'''\n",
        "CUIDADO: \n",
        "Si no lo usamos con cuidado podemos mostrarlo\n",
        "en pantalla o incluso asignarlo a variables de\n",
        "manera no intencional.\n",
        "'''"
      ],
      "execution_count": null,
      "outputs": []
    },
    {
      "cell_type": "markdown",
      "metadata": {
        "id": "w54MB7xAagth"
      },
      "source": [
        "### **6.2. Funciones de ayuda**\n",
        "---\n",
        "\n",
        "En programación se considera más valioso saber encontrar información específica de una utilidad o que ser capaz de recordar cada detalle de su implementación. En este sentido, _Python_ y _Google Colaboratory_ ofrecen algunas utilidades para identificar de manera rápida este tipo de información. Por ejemplo, si queremos conocer los detalles de una función (como **`print`**), podemos utilizar la función **`help`**, que muestra en salida una descripción de su funcionalidad."
      ]
    },
    {
      "cell_type": "code",
      "metadata": {
        "id": "5j-kaP7QctFF",
        "colab": {
          "base_uri": "https://localhost:8080/"
        },
        "outputId": "f7b8c85d-41e3-40ba-b87a-f11439f0765f"
      },
      "source": [
        "help(print)"
      ],
      "execution_count": null,
      "outputs": [
        {
          "output_type": "stream",
          "text": [
            "Help on built-in function print in module builtins:\n",
            "\n",
            "print(...)\n",
            "    print(value, ..., sep=' ', end='\\n', file=sys.stdout, flush=False)\n",
            "    \n",
            "    Prints the values to a stream, or to sys.stdout by default.\n",
            "    Optional keyword arguments:\n",
            "    file:  a file-like object (stream); defaults to the current sys.stdout.\n",
            "    sep:   string inserted between values, default a space.\n",
            "    end:   string appended after the last value, default a newline.\n",
            "    flush: whether to forcibly flush the stream.\n",
            "\n"
          ],
          "name": "stdout"
        }
      ]
    },
    {
      "cell_type": "markdown",
      "metadata": {
        "id": "pS1SoWTMc0-i"
      },
      "source": [
        "Podemos obtener el mismo resultado con el carácter **`?`** al final de nuestra expresión. Esta utilidad es propia del entorno de _Jupyter_, y en _Google Colab_ se muestra en una ventana propia al costado derecho de la pantalla."
      ]
    },
    {
      "cell_type": "code",
      "metadata": {
        "id": "kKA0vYp2c7SO"
      },
      "source": [
        "print?"
      ],
      "execution_count": null,
      "outputs": []
    },
    {
      "cell_type": "markdown",
      "metadata": {
        "id": "Vbs3ZEEtfeku"
      },
      "source": [
        "_Google Colaboratory_ nos permite también realizar **compleción de código**. Por ejemplo, definamos una cadena de texto:"
      ]
    },
    {
      "cell_type": "code",
      "metadata": {
        "id": "9EJtqiHHfqiv"
      },
      "source": [
        "cadena = 'Python'"
      ],
      "execution_count": null,
      "outputs": []
    },
    {
      "cell_type": "markdown",
      "metadata": {
        "id": "lPJO1dq0fsvj"
      },
      "source": [
        "Ahora, para acceder a sus métodos y variables podemos escribir:\n",
        "\n",
        "```\n",
        "cadena.\n",
        "```\n",
        "\n",
        "y usar la combinación **Ctrl + Espacio** para hacer aparecer una lista con, entre otras cosas, todos los posibles métodos disponibles para cadenas de texto. Desplácese con las flechas de dirección para ubicar el método **`lower`**, y presione **Enter** para completar el código."
      ]
    },
    {
      "cell_type": "code",
      "metadata": {
        "id": "YoQcn_uGhInk"
      },
      "source": [
        "cadena."
      ],
      "execution_count": null,
      "outputs": []
    },
    {
      "cell_type": "markdown",
      "metadata": {
        "id": "wSn7NwdrgYTW"
      },
      "source": [
        "Además, puede pasar el ratón por encima del nombre del método o usar la combinación **Ctrl + Mayus + Espacio** para mostrar una vista previa de la documentación.\n",
        "<center>\n",
        "<img src = \"https://drive.google.com/uc?export=view&id=1skYjmWNmfe-lYtw8xpuCfGDY4jQacEX0\" alt = \"Animación ayuda del editor\" width = \"80%\">  </img> </center>\n"
      ]
    },
    {
      "cell_type": "markdown",
      "metadata": {
        "id": "3Q3ZLFLqqirw"
      },
      "source": [
        "### **6.3. _Python tutor_**\n",
        "---\n",
        "En el transcurso del curso utilizaremos [_Python Tutor_](http://pythontutor.com), una herramienta para la visualización de la ejecución de código en _Python_ y otros lenguajes. Para utilizarlo, debemos instalarlo y configurarlo con una celda como la siguiente:"
      ]
    },
    {
      "cell_type": "code",
      "metadata": {
        "id": "iUfzC4I3rKeK"
      },
      "source": [
        "!pip3 -q install tutormagic\n",
        "%load_ext tutormagic"
      ],
      "execution_count": null,
      "outputs": []
    },
    {
      "cell_type": "markdown",
      "metadata": {
        "id": "6NI4IrR_raew"
      },
      "source": [
        "Con él podemos ver el contenido de las variables en cada paso de la ejecución. Para usarlo, creamos una celda de código con el texto\n",
        "\n",
        "> **`%%tutor -s`** \n",
        "\n",
        "al inicio de la celda, y ubicamos nuestro código en _Python_ en el resto de la celda.\n",
        "\n",
        "> **Nota:** la etiqueta **`-s`** es indispensable para el correcto funcionamiento en la plataforma _Colab_. Se han reportado problemas de texto invisible, que puede solucionarse [borrando la caché](https://kinsta.com/es/base-de-conocimiento/como-borrar-la-cache-del-navegador/) del sitio _Google Colaboratory_ en su navegador.\n",
        "\n",
        "\n",
        "Ejecute la siguiente celda y utilice los botones **_Next_** y **_Prev_** para navegar entre las líneas de código. Preste atención a la sección **_Frames_**, en donde se puede observar el contenido de cada variable en el momento de la ejecución señalado por la flecha roja. Además, en el recuadro **_Print output_** aparecerá la salida del código conforme avanza la ejecución."
      ]
    },
    {
      "cell_type": "code",
      "metadata": {
        "id": "t4Y-L-0IrZQU",
        "colab": {
          "base_uri": "https://localhost:8080/",
          "height": 521
        },
        "outputId": "c9edbddc-e0af-41e3-c574-ece3e3558f07"
      },
      "source": [
        "%%tutor -s -h 500\n",
        "\n",
        "a = 10\n",
        "b = 1\n",
        "\n",
        "a = b + 15\n",
        "b = a - 40\n",
        "b = b * a - 2\n",
        "\n",
        "print(f\"{a + b * (b + a):*^24}\")"
      ],
      "execution_count": null,
      "outputs": [
        {
          "output_type": "display_data",
          "data": {
            "text/html": [
              "\n",
              "        <iframe\n",
              "            width=\"100%\"\n",
              "            height=\"500\"\n",
              "            src=\"https://pythontutor.com/iframe-embed.html#code=%0Aa%20%3D%2010%0Ab%20%3D%201%0A%0Aa%20%3D%20b%20%2B%2015%0Ab%20%3D%20a%20-%2040%0Ab%20%3D%20b%20%2A%20a%20-%202%0A%0Aprint%28f%22%7Ba%20%2B%20b%20%2A%20%28b%20%2B%20a%29%3A%2A%5E24%7D%22%29&origin=opt-frontend.js&cumulative=false&heapPrimitives=false&textReferences=false&curInstr=0&&verticalStack=false&py=3&rawInputLstJSON=%5B%5D&codeDivWidth=50%25&codeDivHeight=100%25\"\n",
              "            frameborder=\"0\"\n",
              "            allowfullscreen\n",
              "        ></iframe>\n",
              "        "
            ],
            "text/plain": [
              "<IPython.lib.display.IFrame at 0x7f9953fd0c90>"
            ]
          },
          "metadata": {
            "tags": []
          }
        }
      ]
    },
    {
      "cell_type": "markdown",
      "metadata": {
        "id": "-RCFt5TItTZz"
      },
      "source": [
        "Lo invitamos a utilizar activamente esta herramienta para comprender la ejecución de los programas conforme avancemos en el curso."
      ]
    },
    {
      "cell_type": "markdown",
      "metadata": {
        "id": "DB_GPl1ou_YI"
      },
      "source": [
        "## **Referencias**\n",
        "---\n",
        "Este material fue tomado y adaptado del libro _How to Think Like a Computer Scientist: Learning with Python 3_, Capítulo 1 y 2.\n",
        "\n",
        " > _Copyright (C) Brad Miller, David Ranum, Jeffrey Elkner, Peter Wentworth, Allen B. Downey, Chris\n",
        "Meyers, and Dario Mitchell. Permission is granted to copy, distribute\n",
        "and/or modify this document under the terms of the GNU Free Documentation\n",
        "License, Version 1.3 or any later version published by the Free Software\n",
        "Foundation; with Invariant Sections being Forward, Prefaces, and\n",
        "Contributor List, no Front-Cover Texts, and no Back-Cover Texts. A copy of\n",
        "the license is included in the section entitled “GNU Free Documentation\n",
        "License”_\n",
        "\n",
        "*   [P. Wentworth, J. Elkner, A.B. Downey, C. Meyers - How to Think Like a Computer\n",
        "Scientist: Learning with Python 3\n",
        "Documentation (3rd Edition)](http://www.ict.ru.ac.za/Resources/cspw/thinkcspy3/thinkcspy3.pdf)\n",
        "*   [How to Think Like a Computer Scientist: Interactive Edition](http://interactivepython.org/courselib/static/thinkcspy/index.html)\n",
        "*   [Aprenda a Pensar Como un Programador\n",
        "con Python\n",
        " (español)](https://argentinaenpython.com/quiero-aprender-python/aprenda-a-pensar-como-un-programador-con-python.pdf)\n"
      ]
    },
    {
      "cell_type": "markdown",
      "metadata": {
        "id": "4r5hSQAz6d-g"
      },
      "source": [
        "## **Recursos adicionales**\n",
        "---\n",
        "\n",
        "En esta sección encontrará material adicional para reforzar los temas y conceptos discutidos:\n",
        "\n",
        "* [*Python* 3: documentación oficial.](https://docs.python.org/3/)\n",
        "* [_Python_ - Tutorial de _Python_ (Español)](https://docs.python.org/es/3.7/tutorial/)\n",
        "  - [_Python_ - Built-in Types](https://docs.python.org/es/3.7/library/stdtypes.html)\n",
        "  - [_Python_ - 2. Usando el intérprete de _Python_](https://docs.python.org/es/3.7/tutorial/interpreter.html)\n",
        "  - [_Python_ - 3. Una introducción informal a _Python_](https://docs.python.org/es/3.7/tutorial/introduction.html#numbers)"
      ]
    },
    {
      "cell_type": "markdown",
      "metadata": {
        "id": "uJLF2Soq64YL"
      },
      "source": [
        "## **Créditos**\n",
        "---\n",
        "\n",
        "* **Profesores:** \n",
        "  * [Felipe Restrepo Calle, PhD](https://dis.unal.edu.co/~ferestrepoca/)\n",
        "  * [Fabio Augusto González, PhD](https://dis.unal.edu.co/~fgonza/)\n",
        "  * [Jorge Eliecer Camargo, PhD](https://dis.unal.edu.co/~jecamargom/)\n",
        "* **Asistentes docentes:**\n",
        "  - Alberto Nicolai Romero Martínez\n",
        "  - Edder Hernández Forero\n",
        "\n",
        "**Universidad Nacional de Colombia** - *Facultad de Ingeniería*"
      ]
    }
  ]
}